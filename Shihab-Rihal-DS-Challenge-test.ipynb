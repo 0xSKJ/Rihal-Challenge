{
 "cells": [
  {
   "cell_type": "markdown",
   "id": "ad3062c1-3df0-4734-80fb-c06494385d8b",
   "metadata": {},
   "source": [
    "# Imports"
   ]
  },
  {
   "cell_type": "code",
   "execution_count": 1,
   "id": "698af1e2-85bb-48f1-8edf-13ffa69b0b2c",
   "metadata": {},
   "outputs": [],
   "source": [
    "import pandas as pd\n",
    "import matplotlib.pyplot as plt\n",
    "import seaborn as sns\n",
    "import numpy as np\n",
    "import warnings\n",
    "warnings.filterwarnings('ignore')\n",
    "%matplotlib inline"
   ]
  },
  {
   "cell_type": "markdown",
   "id": "4befd6b6-0105-4ec7-a8b5-436fae18f294",
   "metadata": {},
   "source": [
    "# Read Data"
   ]
  },
  {
   "cell_type": "code",
   "execution_count": 2,
   "id": "1a367493-446e-4554-9d71-e3f5b66d0261",
   "metadata": {},
   "outputs": [],
   "source": [
    "df_train = pd.read_csv('data_train.csv')\n",
    "df_test = pd.read_csv('data_test.csv')"
   ]
  },
  {
   "cell_type": "code",
   "execution_count": 3,
   "id": "79a34002-44ce-48fc-8fb3-9b956e3e3b08",
   "metadata": {},
   "outputs": [
    {
     "data": {
      "text/html": [
       "<div>\n",
       "<style scoped>\n",
       "    .dataframe tbody tr th:only-of-type {\n",
       "        vertical-align: middle;\n",
       "    }\n",
       "\n",
       "    .dataframe tbody tr th {\n",
       "        vertical-align: top;\n",
       "    }\n",
       "\n",
       "    .dataframe thead th {\n",
       "        text-align: right;\n",
       "    }\n",
       "</style>\n",
       "<table border=\"1\" class=\"dataframe\">\n",
       "  <thead>\n",
       "    <tr style=\"text-align: right;\">\n",
       "      <th></th>\n",
       "      <th>manufacturer_name</th>\n",
       "      <th>transmission</th>\n",
       "      <th>color</th>\n",
       "      <th>odometer_value</th>\n",
       "      <th>year_produced</th>\n",
       "      <th>engine_fuel</th>\n",
       "      <th>engine_type</th>\n",
       "      <th>engine_capacity</th>\n",
       "      <th>body_type</th>\n",
       "      <th>has_warranty</th>\n",
       "      <th>ownership</th>\n",
       "      <th>type_of_drive</th>\n",
       "      <th>is_exchangeable</th>\n",
       "      <th>number_of_photos</th>\n",
       "      <th>number_of_maintenance</th>\n",
       "      <th>duration_listed</th>\n",
       "      <th>price_usd</th>\n",
       "    </tr>\n",
       "  </thead>\n",
       "  <tbody>\n",
       "    <tr>\n",
       "      <th>0</th>\n",
       "      <td>Volkswagen</td>\n",
       "      <td>automatic</td>\n",
       "      <td>black</td>\n",
       "      <td>130000</td>\n",
       "      <td>2016</td>\n",
       "      <td>diesel</td>\n",
       "      <td>diesel</td>\n",
       "      <td>1.6</td>\n",
       "      <td>universal</td>\n",
       "      <td>False</td>\n",
       "      <td>owned</td>\n",
       "      <td>front</td>\n",
       "      <td>True</td>\n",
       "      <td>17</td>\n",
       "      <td>38</td>\n",
       "      <td>67</td>\n",
       "      <td>13150.0</td>\n",
       "    </tr>\n",
       "    <tr>\n",
       "      <th>1</th>\n",
       "      <td>Renault</td>\n",
       "      <td>manual</td>\n",
       "      <td>brown</td>\n",
       "      <td>149000</td>\n",
       "      <td>2012</td>\n",
       "      <td>gasoline</td>\n",
       "      <td>gasoline</td>\n",
       "      <td>1.6</td>\n",
       "      <td>sedan</td>\n",
       "      <td>False</td>\n",
       "      <td>owned</td>\n",
       "      <td>front</td>\n",
       "      <td>False</td>\n",
       "      <td>9</td>\n",
       "      <td>3</td>\n",
       "      <td>100</td>\n",
       "      <td>7500.0</td>\n",
       "    </tr>\n",
       "    <tr>\n",
       "      <th>2</th>\n",
       "      <td>Kia</td>\n",
       "      <td>automatic</td>\n",
       "      <td>brown</td>\n",
       "      <td>110000</td>\n",
       "      <td>2014</td>\n",
       "      <td>gasoline</td>\n",
       "      <td>gasoline</td>\n",
       "      <td>1.6</td>\n",
       "      <td>hatchback</td>\n",
       "      <td>False</td>\n",
       "      <td>owned</td>\n",
       "      <td>front</td>\n",
       "      <td>False</td>\n",
       "      <td>5</td>\n",
       "      <td>10</td>\n",
       "      <td>91</td>\n",
       "      <td>12200.0</td>\n",
       "    </tr>\n",
       "    <tr>\n",
       "      <th>3</th>\n",
       "      <td>Opel</td>\n",
       "      <td>automatic</td>\n",
       "      <td>other</td>\n",
       "      <td>255100</td>\n",
       "      <td>2007</td>\n",
       "      <td>gasoline</td>\n",
       "      <td>gasoline</td>\n",
       "      <td>1.8</td>\n",
       "      <td>hatchback</td>\n",
       "      <td>False</td>\n",
       "      <td>owned</td>\n",
       "      <td>front</td>\n",
       "      <td>False</td>\n",
       "      <td>10</td>\n",
       "      <td>4</td>\n",
       "      <td>91</td>\n",
       "      <td>4950.0</td>\n",
       "    </tr>\n",
       "    <tr>\n",
       "      <th>4</th>\n",
       "      <td>Mazda</td>\n",
       "      <td>manual</td>\n",
       "      <td>blue</td>\n",
       "      <td>650000</td>\n",
       "      <td>1999</td>\n",
       "      <td>gasoline</td>\n",
       "      <td>gasoline</td>\n",
       "      <td>2.0</td>\n",
       "      <td>sedan</td>\n",
       "      <td>False</td>\n",
       "      <td>owned</td>\n",
       "      <td>front</td>\n",
       "      <td>True</td>\n",
       "      <td>5</td>\n",
       "      <td>7</td>\n",
       "      <td>62</td>\n",
       "      <td>3000.0</td>\n",
       "    </tr>\n",
       "  </tbody>\n",
       "</table>\n",
       "</div>"
      ],
      "text/plain": [
       "  manufacturer_name transmission  color  odometer_value  year_produced  \\\n",
       "0        Volkswagen    automatic  black          130000           2016   \n",
       "1           Renault       manual  brown          149000           2012   \n",
       "2               Kia    automatic  brown          110000           2014   \n",
       "3              Opel    automatic  other          255100           2007   \n",
       "4             Mazda       manual   blue          650000           1999   \n",
       "\n",
       "  engine_fuel engine_type  engine_capacity  body_type  has_warranty ownership  \\\n",
       "0      diesel      diesel              1.6  universal         False     owned   \n",
       "1    gasoline    gasoline              1.6      sedan         False     owned   \n",
       "2    gasoline    gasoline              1.6  hatchback         False     owned   \n",
       "3    gasoline    gasoline              1.8  hatchback         False     owned   \n",
       "4    gasoline    gasoline              2.0      sedan         False     owned   \n",
       "\n",
       "  type_of_drive  is_exchangeable  number_of_photos  number_of_maintenance  \\\n",
       "0         front             True                17                     38   \n",
       "1         front            False                 9                      3   \n",
       "2         front            False                 5                     10   \n",
       "3         front            False                10                      4   \n",
       "4         front             True                 5                      7   \n",
       "\n",
       "   duration_listed  price_usd  \n",
       "0               67    13150.0  \n",
       "1              100     7500.0  \n",
       "2               91    12200.0  \n",
       "3               91     4950.0  \n",
       "4               62     3000.0  "
      ]
     },
     "metadata": {},
     "output_type": "display_data"
    },
    {
     "data": {
      "text/html": [
       "<div>\n",
       "<style scoped>\n",
       "    .dataframe tbody tr th:only-of-type {\n",
       "        vertical-align: middle;\n",
       "    }\n",
       "\n",
       "    .dataframe tbody tr th {\n",
       "        vertical-align: top;\n",
       "    }\n",
       "\n",
       "    .dataframe thead th {\n",
       "        text-align: right;\n",
       "    }\n",
       "</style>\n",
       "<table border=\"1\" class=\"dataframe\">\n",
       "  <thead>\n",
       "    <tr style=\"text-align: right;\">\n",
       "      <th></th>\n",
       "      <th>manufacturer_name</th>\n",
       "      <th>transmission</th>\n",
       "      <th>color</th>\n",
       "      <th>odometer_value</th>\n",
       "      <th>year_produced</th>\n",
       "      <th>engine_fuel</th>\n",
       "      <th>engine_type</th>\n",
       "      <th>engine_capacity</th>\n",
       "      <th>body_type</th>\n",
       "      <th>has_warranty</th>\n",
       "      <th>ownership</th>\n",
       "      <th>type_of_drive</th>\n",
       "      <th>is_exchangeable</th>\n",
       "      <th>number_of_photos</th>\n",
       "      <th>number_of_maintenance</th>\n",
       "      <th>duration_listed</th>\n",
       "      <th>price_usd</th>\n",
       "    </tr>\n",
       "  </thead>\n",
       "  <tbody>\n",
       "    <tr>\n",
       "      <th>0</th>\n",
       "      <td>BMW</td>\n",
       "      <td>automatic</td>\n",
       "      <td>white</td>\n",
       "      <td>115000</td>\n",
       "      <td>2012</td>\n",
       "      <td>gasoline</td>\n",
       "      <td>gasoline</td>\n",
       "      <td>4.4</td>\n",
       "      <td>sedan</td>\n",
       "      <td>False</td>\n",
       "      <td>owned</td>\n",
       "      <td>all</td>\n",
       "      <td>True</td>\n",
       "      <td>32</td>\n",
       "      <td>104</td>\n",
       "      <td>146</td>\n",
       "      <td>20450.0</td>\n",
       "    </tr>\n",
       "    <tr>\n",
       "      <th>1</th>\n",
       "      <td>Mercedes-Benz</td>\n",
       "      <td>manual</td>\n",
       "      <td>other</td>\n",
       "      <td>500000</td>\n",
       "      <td>1999</td>\n",
       "      <td>diesel</td>\n",
       "      <td>diesel</td>\n",
       "      <td>2.2</td>\n",
       "      <td>sedan</td>\n",
       "      <td>False</td>\n",
       "      <td>owned</td>\n",
       "      <td>rear</td>\n",
       "      <td>False</td>\n",
       "      <td>7</td>\n",
       "      <td>9</td>\n",
       "      <td>147</td>\n",
       "      <td>2600.0</td>\n",
       "    </tr>\n",
       "    <tr>\n",
       "      <th>2</th>\n",
       "      <td>Fiat</td>\n",
       "      <td>manual</td>\n",
       "      <td>silver</td>\n",
       "      <td>210000</td>\n",
       "      <td>2002</td>\n",
       "      <td>gasoline</td>\n",
       "      <td>gasoline</td>\n",
       "      <td>1.2</td>\n",
       "      <td>hatchback</td>\n",
       "      <td>False</td>\n",
       "      <td>owned</td>\n",
       "      <td>front</td>\n",
       "      <td>True</td>\n",
       "      <td>16</td>\n",
       "      <td>7</td>\n",
       "      <td>27</td>\n",
       "      <td>2900.0</td>\n",
       "    </tr>\n",
       "    <tr>\n",
       "      <th>3</th>\n",
       "      <td>Mitsubishi</td>\n",
       "      <td>automatic</td>\n",
       "      <td>violet</td>\n",
       "      <td>294000</td>\n",
       "      <td>2000</td>\n",
       "      <td>diesel</td>\n",
       "      <td>diesel</td>\n",
       "      <td>3.2</td>\n",
       "      <td>suv</td>\n",
       "      <td>False</td>\n",
       "      <td>owned</td>\n",
       "      <td>all</td>\n",
       "      <td>True</td>\n",
       "      <td>10</td>\n",
       "      <td>2</td>\n",
       "      <td>48</td>\n",
       "      <td>7500.0</td>\n",
       "    </tr>\n",
       "    <tr>\n",
       "      <th>4</th>\n",
       "      <td>Opel</td>\n",
       "      <td>automatic</td>\n",
       "      <td>blue</td>\n",
       "      <td>244000</td>\n",
       "      <td>1998</td>\n",
       "      <td>gasoline</td>\n",
       "      <td>gasoline</td>\n",
       "      <td>1.6</td>\n",
       "      <td>sedan</td>\n",
       "      <td>False</td>\n",
       "      <td>owned</td>\n",
       "      <td>front</td>\n",
       "      <td>False</td>\n",
       "      <td>9</td>\n",
       "      <td>10</td>\n",
       "      <td>116</td>\n",
       "      <td>2200.0</td>\n",
       "    </tr>\n",
       "  </tbody>\n",
       "</table>\n",
       "</div>"
      ],
      "text/plain": [
       "  manufacturer_name transmission   color  odometer_value  year_produced  \\\n",
       "0               BMW    automatic   white          115000           2012   \n",
       "1     Mercedes-Benz       manual   other          500000           1999   \n",
       "2              Fiat       manual  silver          210000           2002   \n",
       "3        Mitsubishi    automatic  violet          294000           2000   \n",
       "4              Opel    automatic    blue          244000           1998   \n",
       "\n",
       "  engine_fuel engine_type  engine_capacity  body_type  has_warranty ownership  \\\n",
       "0    gasoline    gasoline              4.4      sedan         False     owned   \n",
       "1      diesel      diesel              2.2      sedan         False     owned   \n",
       "2    gasoline    gasoline              1.2  hatchback         False     owned   \n",
       "3      diesel      diesel              3.2        suv         False     owned   \n",
       "4    gasoline    gasoline              1.6      sedan         False     owned   \n",
       "\n",
       "  type_of_drive  is_exchangeable  number_of_photos  number_of_maintenance  \\\n",
       "0           all             True                32                    104   \n",
       "1          rear            False                 7                      9   \n",
       "2         front             True                16                      7   \n",
       "3           all             True                10                      2   \n",
       "4         front            False                 9                     10   \n",
       "\n",
       "   duration_listed  price_usd  \n",
       "0              146    20450.0  \n",
       "1              147     2600.0  \n",
       "2               27     2900.0  \n",
       "3               48     7500.0  \n",
       "4              116     2200.0  "
      ]
     },
     "metadata": {},
     "output_type": "display_data"
    }
   ],
   "source": [
    "display(df_train.head())\n",
    "display(df_test.head())"
   ]
  },
  {
   "cell_type": "markdown",
   "id": "9feeb510-1a23-4953-8016-38f9c8b29e00",
   "metadata": {},
   "source": [
    "# Basic Data Quality Checks"
   ]
  },
  {
   "cell_type": "code",
   "execution_count": 4,
   "id": "a41b528d-9c55-4ba3-9538-1271719e37f5",
   "metadata": {},
   "outputs": [
    {
     "data": {
      "text/plain": [
       "(50000, 17)"
      ]
     },
     "execution_count": 4,
     "metadata": {},
     "output_type": "execute_result"
    }
   ],
   "source": [
    "df_train.shape"
   ]
  },
  {
   "cell_type": "code",
   "execution_count": 5,
   "id": "667e2ff6-942e-4790-a41c-bb778c299b94",
   "metadata": {},
   "outputs": [
    {
     "data": {
      "text/plain": [
       "(27000, 17)"
      ]
     },
     "execution_count": 5,
     "metadata": {},
     "output_type": "execute_result"
    }
   ],
   "source": [
    "df_test.shape"
   ]
  },
  {
   "cell_type": "code",
   "execution_count": 6,
   "id": "26e40118-6dc8-4edf-bd53-22d440cecb1b",
   "metadata": {},
   "outputs": [
    {
     "data": {
      "text/plain": [
       "Index(['manufacturer_name', 'transmission', 'color', 'odometer_value',\n",
       "       'year_produced', 'engine_fuel', 'engine_type', 'engine_capacity',\n",
       "       'body_type', 'has_warranty', 'ownership', 'type_of_drive',\n",
       "       'is_exchangeable', 'number_of_photos', 'number_of_maintenance',\n",
       "       'duration_listed', 'price_usd'],\n",
       "      dtype='object')"
      ]
     },
     "execution_count": 6,
     "metadata": {},
     "output_type": "execute_result"
    }
   ],
   "source": [
    "df_train.columns"
   ]
  },
  {
   "cell_type": "code",
   "execution_count": 7,
   "id": "e41df07b-0e5b-4d62-b8a3-d33af6048170",
   "metadata": {},
   "outputs": [
    {
     "name": "stdout",
     "output_type": "stream",
     "text": [
      "<class 'pandas.core.frame.DataFrame'>\n",
      "RangeIndex: 50000 entries, 0 to 49999\n",
      "Data columns (total 17 columns):\n",
      " #   Column                 Non-Null Count  Dtype  \n",
      "---  ------                 --------------  -----  \n",
      " 0   manufacturer_name      50000 non-null  object \n",
      " 1   transmission           50000 non-null  object \n",
      " 2   color                  50000 non-null  object \n",
      " 3   odometer_value         50000 non-null  int64  \n",
      " 4   year_produced          50000 non-null  int64  \n",
      " 5   engine_fuel            50000 non-null  object \n",
      " 6   engine_type            50000 non-null  object \n",
      " 7   engine_capacity        49985 non-null  float64\n",
      " 8   body_type              50000 non-null  object \n",
      " 9   has_warranty           50000 non-null  bool   \n",
      " 10  ownership              50000 non-null  object \n",
      " 11  type_of_drive          50000 non-null  object \n",
      " 12  is_exchangeable        50000 non-null  bool   \n",
      " 13  number_of_photos       50000 non-null  int64  \n",
      " 14  number_of_maintenance  50000 non-null  int64  \n",
      " 15  duration_listed        50000 non-null  int64  \n",
      " 16  price_usd              50000 non-null  float64\n",
      "dtypes: bool(2), float64(2), int64(5), object(8)\n",
      "memory usage: 5.8+ MB\n"
     ]
    }
   ],
   "source": [
    "df_train.info()"
   ]
  },
  {
   "cell_type": "code",
   "execution_count": 8,
   "id": "2c62742e-4a89-40b5-8427-73eb2676e645",
   "metadata": {},
   "outputs": [
    {
     "data": {
      "text/plain": [
       "<bound method DataFrame.info of       manufacturer_name transmission  color  odometer_value  year_produced  \\\n",
       "0            Volkswagen    automatic  black          130000           2016   \n",
       "1               Renault       manual  brown          149000           2012   \n",
       "2                   Kia    automatic  brown          110000           2014   \n",
       "3                  Opel    automatic  other          255100           2007   \n",
       "4                 Mazda       manual   blue          650000           1999   \n",
       "...                 ...          ...    ...             ...            ...   \n",
       "49995              Opel       manual  white          380000           1996   \n",
       "49996        Volkswagen       manual  green          311213           1994   \n",
       "49997              Fiat       manual    red          250000           1999   \n",
       "49998               BMW    automatic   grey          615000           1998   \n",
       "49999             Volvo    automatic  other          485000           2002   \n",
       "\n",
       "      engine_fuel engine_type  engine_capacity  body_type  has_warranty  \\\n",
       "0          diesel      diesel              1.6  universal         False   \n",
       "1        gasoline    gasoline              1.6      sedan         False   \n",
       "2        gasoline    gasoline              1.6  hatchback         False   \n",
       "3        gasoline    gasoline              1.8  hatchback         False   \n",
       "4        gasoline    gasoline              2.0      sedan         False   \n",
       "...           ...         ...              ...        ...           ...   \n",
       "49995    gasoline    gasoline              1.6      sedan         False   \n",
       "49996         gas    gasoline              1.8  universal         False   \n",
       "49997    gasoline    gasoline              1.8      coupe         False   \n",
       "49998      diesel      diesel              2.5  universal         False   \n",
       "49999      diesel      diesel              2.4      sedan         False   \n",
       "\n",
       "      ownership type_of_drive  is_exchangeable  number_of_photos  \\\n",
       "0         owned         front             True                17   \n",
       "1         owned         front            False                 9   \n",
       "2         owned         front            False                 5   \n",
       "3         owned         front            False                10   \n",
       "4         owned         front             True                 5   \n",
       "...         ...           ...              ...               ...   \n",
       "49995     owned         front            False                 2   \n",
       "49996     owned         front            False                15   \n",
       "49997     owned         front            False                 7   \n",
       "49998     owned          rear             True                10   \n",
       "49999     owned         front             True                 6   \n",
       "\n",
       "       number_of_maintenance  duration_listed  price_usd  \n",
       "0                         38               67    13150.0  \n",
       "1                          3              100     7500.0  \n",
       "2                         10               91    12200.0  \n",
       "3                          4               91     4950.0  \n",
       "4                          7               62     3000.0  \n",
       "...                      ...              ...        ...  \n",
       "49995                      2               59     3500.0  \n",
       "49996                      7               29     2850.0  \n",
       "49997                     13              108     2000.0  \n",
       "49998                     26               64     5080.0  \n",
       "49999                      2               58     6800.0  \n",
       "\n",
       "[50000 rows x 17 columns]>"
      ]
     },
     "execution_count": 8,
     "metadata": {},
     "output_type": "execute_result"
    }
   ],
   "source": [
    "df_train.info"
   ]
  },
  {
   "cell_type": "code",
   "execution_count": 9,
   "id": "ba0a316c-8203-40f8-8a24-ea23ad74b18d",
   "metadata": {},
   "outputs": [
    {
     "data": {
      "text/html": [
       "<div>\n",
       "<style scoped>\n",
       "    .dataframe tbody tr th:only-of-type {\n",
       "        vertical-align: middle;\n",
       "    }\n",
       "\n",
       "    .dataframe tbody tr th {\n",
       "        vertical-align: top;\n",
       "    }\n",
       "\n",
       "    .dataframe thead th {\n",
       "        text-align: right;\n",
       "    }\n",
       "</style>\n",
       "<table border=\"1\" class=\"dataframe\">\n",
       "  <thead>\n",
       "    <tr style=\"text-align: right;\">\n",
       "      <th></th>\n",
       "      <th>manufacturer_name</th>\n",
       "      <th>transmission</th>\n",
       "      <th>color</th>\n",
       "      <th>odometer_value</th>\n",
       "      <th>year_produced</th>\n",
       "      <th>engine_fuel</th>\n",
       "      <th>engine_type</th>\n",
       "      <th>engine_capacity</th>\n",
       "      <th>body_type</th>\n",
       "      <th>has_warranty</th>\n",
       "      <th>ownership</th>\n",
       "      <th>type_of_drive</th>\n",
       "      <th>is_exchangeable</th>\n",
       "      <th>number_of_photos</th>\n",
       "      <th>number_of_maintenance</th>\n",
       "      <th>duration_listed</th>\n",
       "      <th>price_usd</th>\n",
       "    </tr>\n",
       "  </thead>\n",
       "  <tbody>\n",
       "    <tr>\n",
       "      <th>count</th>\n",
       "      <td>50000</td>\n",
       "      <td>50000</td>\n",
       "      <td>50000</td>\n",
       "      <td>50000.000000</td>\n",
       "      <td>50000.000000</td>\n",
       "      <td>50000</td>\n",
       "      <td>50000</td>\n",
       "      <td>49985.000000</td>\n",
       "      <td>50000</td>\n",
       "      <td>50000</td>\n",
       "      <td>50000</td>\n",
       "      <td>50000</td>\n",
       "      <td>50000</td>\n",
       "      <td>50000.000000</td>\n",
       "      <td>50000.000000</td>\n",
       "      <td>50000.000000</td>\n",
       "      <td>50000.000000</td>\n",
       "    </tr>\n",
       "    <tr>\n",
       "      <th>unique</th>\n",
       "      <td>55</td>\n",
       "      <td>2</td>\n",
       "      <td>12</td>\n",
       "      <td>NaN</td>\n",
       "      <td>NaN</td>\n",
       "      <td>6</td>\n",
       "      <td>3</td>\n",
       "      <td>NaN</td>\n",
       "      <td>12</td>\n",
       "      <td>2</td>\n",
       "      <td>3</td>\n",
       "      <td>3</td>\n",
       "      <td>2</td>\n",
       "      <td>NaN</td>\n",
       "      <td>NaN</td>\n",
       "      <td>NaN</td>\n",
       "      <td>NaN</td>\n",
       "    </tr>\n",
       "    <tr>\n",
       "      <th>top</th>\n",
       "      <td>Volkswagen</td>\n",
       "      <td>manual</td>\n",
       "      <td>black</td>\n",
       "      <td>NaN</td>\n",
       "      <td>NaN</td>\n",
       "      <td>gasoline</td>\n",
       "      <td>gasoline</td>\n",
       "      <td>NaN</td>\n",
       "      <td>sedan</td>\n",
       "      <td>False</td>\n",
       "      <td>owned</td>\n",
       "      <td>front</td>\n",
       "      <td>False</td>\n",
       "      <td>NaN</td>\n",
       "      <td>NaN</td>\n",
       "      <td>NaN</td>\n",
       "      <td>NaN</td>\n",
       "    </tr>\n",
       "    <tr>\n",
       "      <th>freq</th>\n",
       "      <td>5478</td>\n",
       "      <td>33277</td>\n",
       "      <td>9979</td>\n",
       "      <td>NaN</td>\n",
       "      <td>NaN</td>\n",
       "      <td>31255</td>\n",
       "      <td>33324</td>\n",
       "      <td>NaN</td>\n",
       "      <td>16910</td>\n",
       "      <td>49429</td>\n",
       "      <td>48956</td>\n",
       "      <td>36012</td>\n",
       "      <td>32350</td>\n",
       "      <td>NaN</td>\n",
       "      <td>NaN</td>\n",
       "      <td>NaN</td>\n",
       "      <td>NaN</td>\n",
       "    </tr>\n",
       "    <tr>\n",
       "      <th>mean</th>\n",
       "      <td>NaN</td>\n",
       "      <td>NaN</td>\n",
       "      <td>NaN</td>\n",
       "      <td>249219.881980</td>\n",
       "      <td>2002.945620</td>\n",
       "      <td>NaN</td>\n",
       "      <td>NaN</td>\n",
       "      <td>2.056894</td>\n",
       "      <td>NaN</td>\n",
       "      <td>NaN</td>\n",
       "      <td>NaN</td>\n",
       "      <td>NaN</td>\n",
       "      <td>NaN</td>\n",
       "      <td>9.662420</td>\n",
       "      <td>16.256940</td>\n",
       "      <td>80.739440</td>\n",
       "      <td>6654.891274</td>\n",
       "    </tr>\n",
       "    <tr>\n",
       "      <th>std</th>\n",
       "      <td>NaN</td>\n",
       "      <td>NaN</td>\n",
       "      <td>NaN</td>\n",
       "      <td>136361.343789</td>\n",
       "      <td>8.067141</td>\n",
       "      <td>NaN</td>\n",
       "      <td>NaN</td>\n",
       "      <td>0.675106</td>\n",
       "      <td>NaN</td>\n",
       "      <td>NaN</td>\n",
       "      <td>NaN</td>\n",
       "      <td>NaN</td>\n",
       "      <td>NaN</td>\n",
       "      <td>6.145263</td>\n",
       "      <td>41.537349</td>\n",
       "      <td>113.606476</td>\n",
       "      <td>6467.096697</td>\n",
       "    </tr>\n",
       "    <tr>\n",
       "      <th>min</th>\n",
       "      <td>NaN</td>\n",
       "      <td>NaN</td>\n",
       "      <td>NaN</td>\n",
       "      <td>0.000000</td>\n",
       "      <td>1942.000000</td>\n",
       "      <td>NaN</td>\n",
       "      <td>NaN</td>\n",
       "      <td>0.200000</td>\n",
       "      <td>NaN</td>\n",
       "      <td>NaN</td>\n",
       "      <td>NaN</td>\n",
       "      <td>NaN</td>\n",
       "      <td>NaN</td>\n",
       "      <td>1.000000</td>\n",
       "      <td>1.000000</td>\n",
       "      <td>0.000000</td>\n",
       "      <td>1.000000</td>\n",
       "    </tr>\n",
       "    <tr>\n",
       "      <th>25%</th>\n",
       "      <td>NaN</td>\n",
       "      <td>NaN</td>\n",
       "      <td>NaN</td>\n",
       "      <td>158000.000000</td>\n",
       "      <td>1998.000000</td>\n",
       "      <td>NaN</td>\n",
       "      <td>NaN</td>\n",
       "      <td>1.600000</td>\n",
       "      <td>NaN</td>\n",
       "      <td>NaN</td>\n",
       "      <td>NaN</td>\n",
       "      <td>NaN</td>\n",
       "      <td>NaN</td>\n",
       "      <td>5.000000</td>\n",
       "      <td>2.000000</td>\n",
       "      <td>23.000000</td>\n",
       "      <td>2100.000000</td>\n",
       "    </tr>\n",
       "    <tr>\n",
       "      <th>50%</th>\n",
       "      <td>NaN</td>\n",
       "      <td>NaN</td>\n",
       "      <td>NaN</td>\n",
       "      <td>250000.000000</td>\n",
       "      <td>2003.000000</td>\n",
       "      <td>NaN</td>\n",
       "      <td>NaN</td>\n",
       "      <td>2.000000</td>\n",
       "      <td>NaN</td>\n",
       "      <td>NaN</td>\n",
       "      <td>NaN</td>\n",
       "      <td>NaN</td>\n",
       "      <td>NaN</td>\n",
       "      <td>8.000000</td>\n",
       "      <td>5.000000</td>\n",
       "      <td>59.000000</td>\n",
       "      <td>4800.000000</td>\n",
       "    </tr>\n",
       "    <tr>\n",
       "      <th>75%</th>\n",
       "      <td>NaN</td>\n",
       "      <td>NaN</td>\n",
       "      <td>NaN</td>\n",
       "      <td>325000.000000</td>\n",
       "      <td>2009.000000</td>\n",
       "      <td>NaN</td>\n",
       "      <td>NaN</td>\n",
       "      <td>2.300000</td>\n",
       "      <td>NaN</td>\n",
       "      <td>NaN</td>\n",
       "      <td>NaN</td>\n",
       "      <td>NaN</td>\n",
       "      <td>NaN</td>\n",
       "      <td>12.000000</td>\n",
       "      <td>16.000000</td>\n",
       "      <td>91.000000</td>\n",
       "      <td>8990.000000</td>\n",
       "    </tr>\n",
       "    <tr>\n",
       "      <th>max</th>\n",
       "      <td>NaN</td>\n",
       "      <td>NaN</td>\n",
       "      <td>NaN</td>\n",
       "      <td>1000000.000000</td>\n",
       "      <td>2019.000000</td>\n",
       "      <td>NaN</td>\n",
       "      <td>NaN</td>\n",
       "      <td>8.000000</td>\n",
       "      <td>NaN</td>\n",
       "      <td>NaN</td>\n",
       "      <td>NaN</td>\n",
       "      <td>NaN</td>\n",
       "      <td>NaN</td>\n",
       "      <td>86.000000</td>\n",
       "      <td>1273.000000</td>\n",
       "      <td>2232.000000</td>\n",
       "      <td>50000.000000</td>\n",
       "    </tr>\n",
       "  </tbody>\n",
       "</table>\n",
       "</div>"
      ],
      "text/plain": [
       "       manufacturer_name transmission  color  odometer_value  year_produced  \\\n",
       "count              50000        50000  50000    50000.000000   50000.000000   \n",
       "unique                55            2     12             NaN            NaN   \n",
       "top           Volkswagen       manual  black             NaN            NaN   \n",
       "freq                5478        33277   9979             NaN            NaN   \n",
       "mean                 NaN          NaN    NaN   249219.881980    2002.945620   \n",
       "std                  NaN          NaN    NaN   136361.343789       8.067141   \n",
       "min                  NaN          NaN    NaN        0.000000    1942.000000   \n",
       "25%                  NaN          NaN    NaN   158000.000000    1998.000000   \n",
       "50%                  NaN          NaN    NaN   250000.000000    2003.000000   \n",
       "75%                  NaN          NaN    NaN   325000.000000    2009.000000   \n",
       "max                  NaN          NaN    NaN  1000000.000000    2019.000000   \n",
       "\n",
       "       engine_fuel engine_type  engine_capacity body_type has_warranty  \\\n",
       "count        50000       50000     49985.000000     50000        50000   \n",
       "unique           6           3              NaN        12            2   \n",
       "top       gasoline    gasoline              NaN     sedan        False   \n",
       "freq         31255       33324              NaN     16910        49429   \n",
       "mean           NaN         NaN         2.056894       NaN          NaN   \n",
       "std            NaN         NaN         0.675106       NaN          NaN   \n",
       "min            NaN         NaN         0.200000       NaN          NaN   \n",
       "25%            NaN         NaN         1.600000       NaN          NaN   \n",
       "50%            NaN         NaN         2.000000       NaN          NaN   \n",
       "75%            NaN         NaN         2.300000       NaN          NaN   \n",
       "max            NaN         NaN         8.000000       NaN          NaN   \n",
       "\n",
       "       ownership type_of_drive is_exchangeable  number_of_photos  \\\n",
       "count      50000         50000           50000      50000.000000   \n",
       "unique         3             3               2               NaN   \n",
       "top        owned         front           False               NaN   \n",
       "freq       48956         36012           32350               NaN   \n",
       "mean         NaN           NaN             NaN          9.662420   \n",
       "std          NaN           NaN             NaN          6.145263   \n",
       "min          NaN           NaN             NaN          1.000000   \n",
       "25%          NaN           NaN             NaN          5.000000   \n",
       "50%          NaN           NaN             NaN          8.000000   \n",
       "75%          NaN           NaN             NaN         12.000000   \n",
       "max          NaN           NaN             NaN         86.000000   \n",
       "\n",
       "        number_of_maintenance  duration_listed     price_usd  \n",
       "count            50000.000000     50000.000000  50000.000000  \n",
       "unique                    NaN              NaN           NaN  \n",
       "top                       NaN              NaN           NaN  \n",
       "freq                      NaN              NaN           NaN  \n",
       "mean                16.256940        80.739440   6654.891274  \n",
       "std                 41.537349       113.606476   6467.096697  \n",
       "min                  1.000000         0.000000      1.000000  \n",
       "25%                  2.000000        23.000000   2100.000000  \n",
       "50%                  5.000000        59.000000   4800.000000  \n",
       "75%                 16.000000        91.000000   8990.000000  \n",
       "max               1273.000000      2232.000000  50000.000000  "
      ]
     },
     "execution_count": 9,
     "metadata": {},
     "output_type": "execute_result"
    }
   ],
   "source": [
    "df_train.describe(include = \"all\")"
   ]
  },
  {
   "cell_type": "markdown",
   "id": "c60ec3d5-d4e5-4e45-ad92-942312384760",
   "metadata": {},
   "source": [
    "# Data Cleaning"
   ]
  },
  {
   "cell_type": "code",
   "execution_count": 10,
   "id": "bc1fb431-4670-4f51-9cbd-76d970173f61",
   "metadata": {},
   "outputs": [],
   "source": [
    "## Checking for Null values"
   ]
  },
  {
   "cell_type": "code",
   "execution_count": 11,
   "id": "83423277-72d3-45ef-ab06-46eaf5334f8a",
   "metadata": {},
   "outputs": [
    {
     "data": {
      "text/plain": [
       "manufacturer_name         0\n",
       "transmission              0\n",
       "color                     0\n",
       "odometer_value            0\n",
       "year_produced             0\n",
       "engine_fuel               0\n",
       "engine_type               0\n",
       "engine_capacity          15\n",
       "body_type                 0\n",
       "has_warranty              0\n",
       "ownership                 0\n",
       "type_of_drive             0\n",
       "is_exchangeable           0\n",
       "number_of_photos          0\n",
       "number_of_maintenance     0\n",
       "duration_listed           0\n",
       "price_usd                 0\n",
       "dtype: int64"
      ]
     },
     "execution_count": 11,
     "metadata": {},
     "output_type": "execute_result"
    }
   ],
   "source": [
    "df_train.isnull().sum()"
   ]
  },
  {
   "cell_type": "markdown",
   "id": "20bcf4c1-fd87-46cf-b6bb-87ccb18450f6",
   "metadata": {},
   "source": [
    " 15 Null values in engine_capacity on the df_train dataset."
   ]
  },
  {
   "cell_type": "code",
   "execution_count": 12,
   "id": "a337030d-d367-4aca-8090-2969487ef1b9",
   "metadata": {},
   "outputs": [
    {
     "data": {
      "text/plain": [
       "manufacturer_name        0\n",
       "transmission             0\n",
       "color                    0\n",
       "odometer_value           0\n",
       "year_produced            0\n",
       "engine_fuel              0\n",
       "engine_type              0\n",
       "engine_capacity          5\n",
       "body_type                0\n",
       "has_warranty             0\n",
       "ownership                0\n",
       "type_of_drive            0\n",
       "is_exchangeable          0\n",
       "number_of_photos         0\n",
       "number_of_maintenance    0\n",
       "duration_listed          0\n",
       "price_usd                0\n",
       "dtype: int64"
      ]
     },
     "execution_count": 12,
     "metadata": {},
     "output_type": "execute_result"
    }
   ],
   "source": [
    "df_test.isnull().sum()"
   ]
  },
  {
   "cell_type": "markdown",
   "id": "d29fb76d-394f-44a1-af55-da204079edfc",
   "metadata": {},
   "source": [
    " 5 Null values in engine_capacity on the df_test dataset."
   ]
  },
  {
   "cell_type": "markdown",
   "id": "f3824421-a6e2-4313-9940-01a046df8319",
   "metadata": {},
   "source": [
    "As null values count for a small percentage of the dataset. Droppping Null values simpler and more efficient."
   ]
  },
  {
   "cell_type": "code",
   "execution_count": 13,
   "id": "87939ed4-40d0-4256-a6c2-1cc2c3d094d1",
   "metadata": {},
   "outputs": [
    {
     "data": {
      "text/plain": [
       "manufacturer_name        0\n",
       "transmission             0\n",
       "color                    0\n",
       "odometer_value           0\n",
       "year_produced            0\n",
       "engine_fuel              0\n",
       "engine_type              0\n",
       "engine_capacity          0\n",
       "body_type                0\n",
       "has_warranty             0\n",
       "ownership                0\n",
       "type_of_drive            0\n",
       "is_exchangeable          0\n",
       "number_of_photos         0\n",
       "number_of_maintenance    0\n",
       "duration_listed          0\n",
       "price_usd                0\n",
       "dtype: int64"
      ]
     },
     "execution_count": 13,
     "metadata": {},
     "output_type": "execute_result"
    }
   ],
   "source": [
    "df_train.dropna(subset=['engine_capacity'], inplace=True)\n",
    "df_train.isnull().sum()"
   ]
  },
  {
   "cell_type": "markdown",
   "id": "6ab1dc22-8f2d-48f4-8dc1-0c6e15301082",
   "metadata": {},
   "source": [
    "Null values dropped"
   ]
  },
  {
   "cell_type": "code",
   "execution_count": 14,
   "id": "b6643438-3927-48c5-b64a-b18a4cc0a0a8",
   "metadata": {},
   "outputs": [
    {
     "data": {
      "text/plain": [
       "manufacturer_name        0\n",
       "transmission             0\n",
       "color                    0\n",
       "odometer_value           0\n",
       "year_produced            0\n",
       "engine_fuel              0\n",
       "engine_type              0\n",
       "engine_capacity          0\n",
       "body_type                0\n",
       "has_warranty             0\n",
       "ownership                0\n",
       "type_of_drive            0\n",
       "is_exchangeable          0\n",
       "number_of_photos         0\n",
       "number_of_maintenance    0\n",
       "duration_listed          0\n",
       "price_usd                0\n",
       "dtype: int64"
      ]
     },
     "execution_count": 14,
     "metadata": {},
     "output_type": "execute_result"
    }
   ],
   "source": [
    "df_test.dropna(subset=['engine_capacity'], inplace=True)\n",
    "df_test.isnull().sum()"
   ]
  },
  {
   "cell_type": "code",
   "execution_count": 15,
   "id": "4bb814e8-7f3a-4758-86eb-c4cfebb35e91",
   "metadata": {},
   "outputs": [],
   "source": [
    "## Verifying"
   ]
  },
  {
   "cell_type": "code",
   "execution_count": 16,
   "id": "4019c858-d330-49fc-a123-d9afaf6a66e1",
   "metadata": {},
   "outputs": [
    {
     "data": {
      "text/plain": [
       "(49985, 17)"
      ]
     },
     "execution_count": 16,
     "metadata": {},
     "output_type": "execute_result"
    }
   ],
   "source": [
    "df_train.shape"
   ]
  },
  {
   "cell_type": "code",
   "execution_count": 17,
   "id": "ecc595c6-6e45-4698-ac77-619ce15c66d9",
   "metadata": {},
   "outputs": [
    {
     "data": {
      "text/plain": [
       "(26995, 17)"
      ]
     },
     "execution_count": 17,
     "metadata": {},
     "output_type": "execute_result"
    }
   ],
   "source": [
    "df_test.shape"
   ]
  },
  {
   "cell_type": "markdown",
   "id": "5dc15da2-63c6-49da-b52d-fb823b2d21a4",
   "metadata": {},
   "source": [
    "Our data is much cleaner to work on now."
   ]
  },
  {
   "cell_type": "code",
   "execution_count": 18,
   "id": "6b1b5d66-3b44-4c6d-8559-8485e45a6988",
   "metadata": {},
   "outputs": [
    {
     "data": {
      "text/html": [
       "<div>\n",
       "<style scoped>\n",
       "    .dataframe tbody tr th:only-of-type {\n",
       "        vertical-align: middle;\n",
       "    }\n",
       "\n",
       "    .dataframe tbody tr th {\n",
       "        vertical-align: top;\n",
       "    }\n",
       "\n",
       "    .dataframe thead th {\n",
       "        text-align: right;\n",
       "    }\n",
       "</style>\n",
       "<table border=\"1\" class=\"dataframe\">\n",
       "  <thead>\n",
       "    <tr style=\"text-align: right;\">\n",
       "      <th></th>\n",
       "      <th>manufacturer_name</th>\n",
       "      <th>transmission</th>\n",
       "      <th>color</th>\n",
       "      <th>odometer_value</th>\n",
       "      <th>year_produced</th>\n",
       "      <th>engine_fuel</th>\n",
       "      <th>engine_type</th>\n",
       "      <th>engine_capacity</th>\n",
       "      <th>body_type</th>\n",
       "      <th>has_warranty</th>\n",
       "      <th>ownership</th>\n",
       "      <th>type_of_drive</th>\n",
       "      <th>is_exchangeable</th>\n",
       "      <th>number_of_photos</th>\n",
       "      <th>number_of_maintenance</th>\n",
       "      <th>duration_listed</th>\n",
       "      <th>price_usd</th>\n",
       "    </tr>\n",
       "  </thead>\n",
       "  <tbody>\n",
       "    <tr>\n",
       "      <th>0</th>\n",
       "      <td>Volkswagen</td>\n",
       "      <td>automatic</td>\n",
       "      <td>black</td>\n",
       "      <td>130000</td>\n",
       "      <td>2016</td>\n",
       "      <td>diesel</td>\n",
       "      <td>diesel</td>\n",
       "      <td>1.6</td>\n",
       "      <td>universal</td>\n",
       "      <td>False</td>\n",
       "      <td>owned</td>\n",
       "      <td>front</td>\n",
       "      <td>True</td>\n",
       "      <td>17</td>\n",
       "      <td>38</td>\n",
       "      <td>67</td>\n",
       "      <td>13150.0</td>\n",
       "    </tr>\n",
       "    <tr>\n",
       "      <th>1</th>\n",
       "      <td>Renault</td>\n",
       "      <td>manual</td>\n",
       "      <td>brown</td>\n",
       "      <td>149000</td>\n",
       "      <td>2012</td>\n",
       "      <td>gasoline</td>\n",
       "      <td>gasoline</td>\n",
       "      <td>1.6</td>\n",
       "      <td>sedan</td>\n",
       "      <td>False</td>\n",
       "      <td>owned</td>\n",
       "      <td>front</td>\n",
       "      <td>False</td>\n",
       "      <td>9</td>\n",
       "      <td>3</td>\n",
       "      <td>100</td>\n",
       "      <td>7500.0</td>\n",
       "    </tr>\n",
       "    <tr>\n",
       "      <th>2</th>\n",
       "      <td>Kia</td>\n",
       "      <td>automatic</td>\n",
       "      <td>brown</td>\n",
       "      <td>110000</td>\n",
       "      <td>2014</td>\n",
       "      <td>gasoline</td>\n",
       "      <td>gasoline</td>\n",
       "      <td>1.6</td>\n",
       "      <td>hatchback</td>\n",
       "      <td>False</td>\n",
       "      <td>owned</td>\n",
       "      <td>front</td>\n",
       "      <td>False</td>\n",
       "      <td>5</td>\n",
       "      <td>10</td>\n",
       "      <td>91</td>\n",
       "      <td>12200.0</td>\n",
       "    </tr>\n",
       "    <tr>\n",
       "      <th>3</th>\n",
       "      <td>Opel</td>\n",
       "      <td>automatic</td>\n",
       "      <td>other</td>\n",
       "      <td>255100</td>\n",
       "      <td>2007</td>\n",
       "      <td>gasoline</td>\n",
       "      <td>gasoline</td>\n",
       "      <td>1.8</td>\n",
       "      <td>hatchback</td>\n",
       "      <td>False</td>\n",
       "      <td>owned</td>\n",
       "      <td>front</td>\n",
       "      <td>False</td>\n",
       "      <td>10</td>\n",
       "      <td>4</td>\n",
       "      <td>91</td>\n",
       "      <td>4950.0</td>\n",
       "    </tr>\n",
       "    <tr>\n",
       "      <th>4</th>\n",
       "      <td>Mazda</td>\n",
       "      <td>manual</td>\n",
       "      <td>blue</td>\n",
       "      <td>650000</td>\n",
       "      <td>1999</td>\n",
       "      <td>gasoline</td>\n",
       "      <td>gasoline</td>\n",
       "      <td>2.0</td>\n",
       "      <td>sedan</td>\n",
       "      <td>False</td>\n",
       "      <td>owned</td>\n",
       "      <td>front</td>\n",
       "      <td>True</td>\n",
       "      <td>5</td>\n",
       "      <td>7</td>\n",
       "      <td>62</td>\n",
       "      <td>3000.0</td>\n",
       "    </tr>\n",
       "  </tbody>\n",
       "</table>\n",
       "</div>"
      ],
      "text/plain": [
       "  manufacturer_name transmission  color  odometer_value  year_produced  \\\n",
       "0        Volkswagen    automatic  black          130000           2016   \n",
       "1           Renault       manual  brown          149000           2012   \n",
       "2               Kia    automatic  brown          110000           2014   \n",
       "3              Opel    automatic  other          255100           2007   \n",
       "4             Mazda       manual   blue          650000           1999   \n",
       "\n",
       "  engine_fuel engine_type  engine_capacity  body_type  has_warranty ownership  \\\n",
       "0      diesel      diesel              1.6  universal         False     owned   \n",
       "1    gasoline    gasoline              1.6      sedan         False     owned   \n",
       "2    gasoline    gasoline              1.6  hatchback         False     owned   \n",
       "3    gasoline    gasoline              1.8  hatchback         False     owned   \n",
       "4    gasoline    gasoline              2.0      sedan         False     owned   \n",
       "\n",
       "  type_of_drive  is_exchangeable  number_of_photos  number_of_maintenance  \\\n",
       "0         front             True                17                     38   \n",
       "1         front            False                 9                      3   \n",
       "2         front            False                 5                     10   \n",
       "3         front            False                10                      4   \n",
       "4         front             True                 5                      7   \n",
       "\n",
       "   duration_listed  price_usd  \n",
       "0               67    13150.0  \n",
       "1              100     7500.0  \n",
       "2               91    12200.0  \n",
       "3               91     4950.0  \n",
       "4               62     3000.0  "
      ]
     },
     "execution_count": 18,
     "metadata": {},
     "output_type": "execute_result"
    }
   ],
   "source": [
    "df_train.head()"
   ]
  },
  {
   "cell_type": "markdown",
   "id": "a5b69b1d-58d4-4f98-ad88-1a574f91de4f",
   "metadata": {},
   "source": [
    "I notice 'Engine Fuel' & 'Engine Type' are pretty much the data. However, 'Engine Fuel' is more detailed, specifying a subcatagory within gas/gasoline called hybrid-petrol. Therefore we will remove the column 'Engine Capacity'. \n",
    "\n",
    "Also I notice that there are two terms decribing the same thing. Which is 'Gas' and 'Gasoline'. Therefore, we will change the term 'Gas' to 'Gasoline' in order to be more fitting."
   ]
  },
  {
   "cell_type": "code",
   "execution_count": 19,
   "id": "93d8856d-c8e2-4a49-9360-81ea09fb07b9",
   "metadata": {},
   "outputs": [
    {
     "data": {
      "text/html": [
       "<div>\n",
       "<style scoped>\n",
       "    .dataframe tbody tr th:only-of-type {\n",
       "        vertical-align: middle;\n",
       "    }\n",
       "\n",
       "    .dataframe tbody tr th {\n",
       "        vertical-align: top;\n",
       "    }\n",
       "\n",
       "    .dataframe thead th {\n",
       "        text-align: right;\n",
       "    }\n",
       "</style>\n",
       "<table border=\"1\" class=\"dataframe\">\n",
       "  <thead>\n",
       "    <tr style=\"text-align: right;\">\n",
       "      <th></th>\n",
       "      <th>manufacturer_name</th>\n",
       "      <th>transmission</th>\n",
       "      <th>color</th>\n",
       "      <th>odometer_value</th>\n",
       "      <th>year_produced</th>\n",
       "      <th>engine_fuel</th>\n",
       "      <th>engine_capacity</th>\n",
       "      <th>body_type</th>\n",
       "      <th>has_warranty</th>\n",
       "      <th>ownership</th>\n",
       "      <th>type_of_drive</th>\n",
       "      <th>is_exchangeable</th>\n",
       "      <th>number_of_photos</th>\n",
       "      <th>number_of_maintenance</th>\n",
       "      <th>duration_listed</th>\n",
       "      <th>price_usd</th>\n",
       "    </tr>\n",
       "  </thead>\n",
       "  <tbody>\n",
       "    <tr>\n",
       "      <th>0</th>\n",
       "      <td>Volkswagen</td>\n",
       "      <td>automatic</td>\n",
       "      <td>black</td>\n",
       "      <td>130000</td>\n",
       "      <td>2016</td>\n",
       "      <td>diesel</td>\n",
       "      <td>1.6</td>\n",
       "      <td>universal</td>\n",
       "      <td>False</td>\n",
       "      <td>owned</td>\n",
       "      <td>front</td>\n",
       "      <td>True</td>\n",
       "      <td>17</td>\n",
       "      <td>38</td>\n",
       "      <td>67</td>\n",
       "      <td>13150.0</td>\n",
       "    </tr>\n",
       "    <tr>\n",
       "      <th>1</th>\n",
       "      <td>Renault</td>\n",
       "      <td>manual</td>\n",
       "      <td>brown</td>\n",
       "      <td>149000</td>\n",
       "      <td>2012</td>\n",
       "      <td>gasoline</td>\n",
       "      <td>1.6</td>\n",
       "      <td>sedan</td>\n",
       "      <td>False</td>\n",
       "      <td>owned</td>\n",
       "      <td>front</td>\n",
       "      <td>False</td>\n",
       "      <td>9</td>\n",
       "      <td>3</td>\n",
       "      <td>100</td>\n",
       "      <td>7500.0</td>\n",
       "    </tr>\n",
       "    <tr>\n",
       "      <th>2</th>\n",
       "      <td>Kia</td>\n",
       "      <td>automatic</td>\n",
       "      <td>brown</td>\n",
       "      <td>110000</td>\n",
       "      <td>2014</td>\n",
       "      <td>gasoline</td>\n",
       "      <td>1.6</td>\n",
       "      <td>hatchback</td>\n",
       "      <td>False</td>\n",
       "      <td>owned</td>\n",
       "      <td>front</td>\n",
       "      <td>False</td>\n",
       "      <td>5</td>\n",
       "      <td>10</td>\n",
       "      <td>91</td>\n",
       "      <td>12200.0</td>\n",
       "    </tr>\n",
       "    <tr>\n",
       "      <th>3</th>\n",
       "      <td>Opel</td>\n",
       "      <td>automatic</td>\n",
       "      <td>other</td>\n",
       "      <td>255100</td>\n",
       "      <td>2007</td>\n",
       "      <td>gasoline</td>\n",
       "      <td>1.8</td>\n",
       "      <td>hatchback</td>\n",
       "      <td>False</td>\n",
       "      <td>owned</td>\n",
       "      <td>front</td>\n",
       "      <td>False</td>\n",
       "      <td>10</td>\n",
       "      <td>4</td>\n",
       "      <td>91</td>\n",
       "      <td>4950.0</td>\n",
       "    </tr>\n",
       "    <tr>\n",
       "      <th>4</th>\n",
       "      <td>Mazda</td>\n",
       "      <td>manual</td>\n",
       "      <td>blue</td>\n",
       "      <td>650000</td>\n",
       "      <td>1999</td>\n",
       "      <td>gasoline</td>\n",
       "      <td>2.0</td>\n",
       "      <td>sedan</td>\n",
       "      <td>False</td>\n",
       "      <td>owned</td>\n",
       "      <td>front</td>\n",
       "      <td>True</td>\n",
       "      <td>5</td>\n",
       "      <td>7</td>\n",
       "      <td>62</td>\n",
       "      <td>3000.0</td>\n",
       "    </tr>\n",
       "  </tbody>\n",
       "</table>\n",
       "</div>"
      ],
      "text/plain": [
       "  manufacturer_name transmission  color  odometer_value  year_produced  \\\n",
       "0        Volkswagen    automatic  black          130000           2016   \n",
       "1           Renault       manual  brown          149000           2012   \n",
       "2               Kia    automatic  brown          110000           2014   \n",
       "3              Opel    automatic  other          255100           2007   \n",
       "4             Mazda       manual   blue          650000           1999   \n",
       "\n",
       "  engine_fuel  engine_capacity  body_type  has_warranty ownership  \\\n",
       "0      diesel              1.6  universal         False     owned   \n",
       "1    gasoline              1.6      sedan         False     owned   \n",
       "2    gasoline              1.6  hatchback         False     owned   \n",
       "3    gasoline              1.8  hatchback         False     owned   \n",
       "4    gasoline              2.0      sedan         False     owned   \n",
       "\n",
       "  type_of_drive  is_exchangeable  number_of_photos  number_of_maintenance  \\\n",
       "0         front             True                17                     38   \n",
       "1         front            False                 9                      3   \n",
       "2         front            False                 5                     10   \n",
       "3         front            False                10                      4   \n",
       "4         front             True                 5                      7   \n",
       "\n",
       "   duration_listed  price_usd  \n",
       "0               67    13150.0  \n",
       "1              100     7500.0  \n",
       "2               91    12200.0  \n",
       "3               91     4950.0  \n",
       "4               62     3000.0  "
      ]
     },
     "execution_count": 19,
     "metadata": {},
     "output_type": "execute_result"
    }
   ],
   "source": [
    "df_train = df_train.drop(\"engine_type\", axis=1)\n",
    "df_test = df_test.drop(\"engine_type\", axis=1)\n",
    "df_train.head()"
   ]
  },
  {
   "cell_type": "code",
   "execution_count": 20,
   "id": "e00ffbe6-a511-4e2e-b8cb-166a6f5e8f20",
   "metadata": {},
   "outputs": [],
   "source": [
    "df_train = df_train.replace('gas', 'gasoline')\n",
    "df_test = df_test.replace('gas', 'gasoline')"
   ]
  },
  {
   "cell_type": "code",
   "execution_count": 21,
   "id": "6f624688-9949-48b1-9514-6b1f3d048d6f",
   "metadata": {},
   "outputs": [
    {
     "data": {
      "text/plain": [
       "gasoline         33008\n",
       "diesel           16657\n",
       "hybrid-petrol      316\n",
       "hybrid-diesel        4\n",
       "Name: engine_fuel, dtype: int64"
      ]
     },
     "execution_count": 21,
     "metadata": {},
     "output_type": "execute_result"
    }
   ],
   "source": [
    "# Verifying\n",
    "df_train['engine_fuel'].value_counts()"
   ]
  },
  {
   "cell_type": "markdown",
   "id": "0669d7aa-96af-4596-a49c-8294a9be7dac",
   "metadata": {},
   "source": [
    "# Exploratory Data Analysis"
   ]
  },
  {
   "cell_type": "markdown",
   "id": "a5d4d1ab-ffc1-4557-891c-892b1203d914",
   "metadata": {},
   "source": [
    "## Visualizing Numerical Data"
   ]
  },
  {
   "cell_type": "code",
   "execution_count": 22,
   "id": "884b366e-d5f8-4a91-8de9-dda25bf3f166",
   "metadata": {},
   "outputs": [],
   "source": [
    "# All numeric (float and int) variables in the dataset"
   ]
  },
  {
   "cell_type": "code",
   "execution_count": 23,
   "id": "6bfbadb0-4bba-4354-8f60-e71a85468cf2",
   "metadata": {},
   "outputs": [
    {
     "data": {
      "text/html": [
       "<div>\n",
       "<style scoped>\n",
       "    .dataframe tbody tr th:only-of-type {\n",
       "        vertical-align: middle;\n",
       "    }\n",
       "\n",
       "    .dataframe tbody tr th {\n",
       "        vertical-align: top;\n",
       "    }\n",
       "\n",
       "    .dataframe thead th {\n",
       "        text-align: right;\n",
       "    }\n",
       "</style>\n",
       "<table border=\"1\" class=\"dataframe\">\n",
       "  <thead>\n",
       "    <tr style=\"text-align: right;\">\n",
       "      <th></th>\n",
       "      <th>odometer_value</th>\n",
       "      <th>year_produced</th>\n",
       "      <th>engine_capacity</th>\n",
       "      <th>number_of_photos</th>\n",
       "      <th>number_of_maintenance</th>\n",
       "      <th>duration_listed</th>\n",
       "      <th>price_usd</th>\n",
       "    </tr>\n",
       "  </thead>\n",
       "  <tbody>\n",
       "    <tr>\n",
       "      <th>0</th>\n",
       "      <td>130000</td>\n",
       "      <td>2016</td>\n",
       "      <td>1.6</td>\n",
       "      <td>17</td>\n",
       "      <td>38</td>\n",
       "      <td>67</td>\n",
       "      <td>13150.0</td>\n",
       "    </tr>\n",
       "    <tr>\n",
       "      <th>1</th>\n",
       "      <td>149000</td>\n",
       "      <td>2012</td>\n",
       "      <td>1.6</td>\n",
       "      <td>9</td>\n",
       "      <td>3</td>\n",
       "      <td>100</td>\n",
       "      <td>7500.0</td>\n",
       "    </tr>\n",
       "    <tr>\n",
       "      <th>2</th>\n",
       "      <td>110000</td>\n",
       "      <td>2014</td>\n",
       "      <td>1.6</td>\n",
       "      <td>5</td>\n",
       "      <td>10</td>\n",
       "      <td>91</td>\n",
       "      <td>12200.0</td>\n",
       "    </tr>\n",
       "    <tr>\n",
       "      <th>3</th>\n",
       "      <td>255100</td>\n",
       "      <td>2007</td>\n",
       "      <td>1.8</td>\n",
       "      <td>10</td>\n",
       "      <td>4</td>\n",
       "      <td>91</td>\n",
       "      <td>4950.0</td>\n",
       "    </tr>\n",
       "    <tr>\n",
       "      <th>4</th>\n",
       "      <td>650000</td>\n",
       "      <td>1999</td>\n",
       "      <td>2.0</td>\n",
       "      <td>5</td>\n",
       "      <td>7</td>\n",
       "      <td>62</td>\n",
       "      <td>3000.0</td>\n",
       "    </tr>\n",
       "  </tbody>\n",
       "</table>\n",
       "</div>"
      ],
      "text/plain": [
       "   odometer_value  year_produced  engine_capacity  number_of_photos  \\\n",
       "0          130000           2016              1.6                17   \n",
       "1          149000           2012              1.6                 9   \n",
       "2          110000           2014              1.6                 5   \n",
       "3          255100           2007              1.8                10   \n",
       "4          650000           1999              2.0                 5   \n",
       "\n",
       "   number_of_maintenance  duration_listed  price_usd  \n",
       "0                     38               67    13150.0  \n",
       "1                      3              100     7500.0  \n",
       "2                     10               91    12200.0  \n",
       "3                      4               91     4950.0  \n",
       "4                      7               62     3000.0  "
      ]
     },
     "execution_count": 23,
     "metadata": {},
     "output_type": "execute_result"
    }
   ],
   "source": [
    "df_train_numeric = df_train.select_dtypes(include=['float64', 'int64'])\n",
    "df_train_numeric.head()"
   ]
  },
  {
   "cell_type": "code",
   "execution_count": 24,
   "id": "be722d57-0aec-4dd7-8669-67ed951eb4c4",
   "metadata": {},
   "outputs": [
    {
     "data": {
      "text/html": [
       "<div>\n",
       "<style scoped>\n",
       "    .dataframe tbody tr th:only-of-type {\n",
       "        vertical-align: middle;\n",
       "    }\n",
       "\n",
       "    .dataframe tbody tr th {\n",
       "        vertical-align: top;\n",
       "    }\n",
       "\n",
       "    .dataframe thead th {\n",
       "        text-align: right;\n",
       "    }\n",
       "</style>\n",
       "<table border=\"1\" class=\"dataframe\">\n",
       "  <thead>\n",
       "    <tr style=\"text-align: right;\">\n",
       "      <th></th>\n",
       "      <th>odometer_value</th>\n",
       "      <th>year_produced</th>\n",
       "      <th>engine_capacity</th>\n",
       "      <th>number_of_photos</th>\n",
       "      <th>number_of_maintenance</th>\n",
       "      <th>duration_listed</th>\n",
       "      <th>price_usd</th>\n",
       "    </tr>\n",
       "  </thead>\n",
       "  <tbody>\n",
       "    <tr>\n",
       "      <th>odometer_value</th>\n",
       "      <td>1.000000</td>\n",
       "      <td>-0.491996</td>\n",
       "      <td>0.103935</td>\n",
       "      <td>-0.144305</td>\n",
       "      <td>-0.023346</td>\n",
       "      <td>-0.000696</td>\n",
       "      <td>-0.421754</td>\n",
       "    </tr>\n",
       "    <tr>\n",
       "      <th>year_produced</th>\n",
       "      <td>-0.491996</td>\n",
       "      <td>1.000000</td>\n",
       "      <td>0.006843</td>\n",
       "      <td>0.254744</td>\n",
       "      <td>0.007125</td>\n",
       "      <td>-0.016925</td>\n",
       "      <td>0.704525</td>\n",
       "    </tr>\n",
       "    <tr>\n",
       "      <th>engine_capacity</th>\n",
       "      <td>0.103935</td>\n",
       "      <td>0.006843</td>\n",
       "      <td>1.000000</td>\n",
       "      <td>0.104773</td>\n",
       "      <td>0.071390</td>\n",
       "      <td>0.074868</td>\n",
       "      <td>0.301269</td>\n",
       "    </tr>\n",
       "    <tr>\n",
       "      <th>number_of_photos</th>\n",
       "      <td>-0.144305</td>\n",
       "      <td>0.254744</td>\n",
       "      <td>0.104773</td>\n",
       "      <td>1.000000</td>\n",
       "      <td>0.072288</td>\n",
       "      <td>-0.028092</td>\n",
       "      <td>0.316846</td>\n",
       "    </tr>\n",
       "    <tr>\n",
       "      <th>number_of_maintenance</th>\n",
       "      <td>-0.023346</td>\n",
       "      <td>0.007125</td>\n",
       "      <td>0.071390</td>\n",
       "      <td>0.072288</td>\n",
       "      <td>1.000000</td>\n",
       "      <td>0.706213</td>\n",
       "      <td>0.058939</td>\n",
       "    </tr>\n",
       "    <tr>\n",
       "      <th>duration_listed</th>\n",
       "      <td>-0.000696</td>\n",
       "      <td>-0.016925</td>\n",
       "      <td>0.074868</td>\n",
       "      <td>-0.028092</td>\n",
       "      <td>0.706213</td>\n",
       "      <td>1.000000</td>\n",
       "      <td>0.035907</td>\n",
       "    </tr>\n",
       "    <tr>\n",
       "      <th>price_usd</th>\n",
       "      <td>-0.421754</td>\n",
       "      <td>0.704525</td>\n",
       "      <td>0.301269</td>\n",
       "      <td>0.316846</td>\n",
       "      <td>0.058939</td>\n",
       "      <td>0.035907</td>\n",
       "      <td>1.000000</td>\n",
       "    </tr>\n",
       "  </tbody>\n",
       "</table>\n",
       "</div>"
      ],
      "text/plain": [
       "                       odometer_value  year_produced  engine_capacity  \\\n",
       "odometer_value               1.000000      -0.491996         0.103935   \n",
       "year_produced               -0.491996       1.000000         0.006843   \n",
       "engine_capacity              0.103935       0.006843         1.000000   \n",
       "number_of_photos            -0.144305       0.254744         0.104773   \n",
       "number_of_maintenance       -0.023346       0.007125         0.071390   \n",
       "duration_listed             -0.000696      -0.016925         0.074868   \n",
       "price_usd                   -0.421754       0.704525         0.301269   \n",
       "\n",
       "                       number_of_photos  number_of_maintenance  \\\n",
       "odometer_value                -0.144305              -0.023346   \n",
       "year_produced                  0.254744               0.007125   \n",
       "engine_capacity                0.104773               0.071390   \n",
       "number_of_photos               1.000000               0.072288   \n",
       "number_of_maintenance          0.072288               1.000000   \n",
       "duration_listed               -0.028092               0.706213   \n",
       "price_usd                      0.316846               0.058939   \n",
       "\n",
       "                       duration_listed  price_usd  \n",
       "odometer_value               -0.000696  -0.421754  \n",
       "year_produced                -0.016925   0.704525  \n",
       "engine_capacity               0.074868   0.301269  \n",
       "number_of_photos             -0.028092   0.316846  \n",
       "number_of_maintenance         0.706213   0.058939  \n",
       "duration_listed               1.000000   0.035907  \n",
       "price_usd                     0.035907   1.000000  "
      ]
     },
     "execution_count": 24,
     "metadata": {},
     "output_type": "execute_result"
    }
   ],
   "source": [
    "# Correlation matrix\n",
    "cor = df_train_numeric.corr()\n",
    "cor"
   ]
  },
  {
   "cell_type": "code",
   "execution_count": 25,
   "id": "bdb47f89-1bce-4641-af8f-ac5465eebe42",
   "metadata": {},
   "outputs": [
    {
     "data": {
      "image/png": "[encoded data removed]",
      "text/plain": [
       "<Figure size 864x648 with 2 Axes>"
      ]
     },
     "metadata": {
      "needs_background": "light"
     },
     "output_type": "display_data"
    }
   ],
   "source": [
    "f, ax = plt.subplots(figsize=(12, 9))\n",
    "sns.heatmap(cor, square=True, annot = True, cmap=\"YlGnBu\");"
   ]
  },
  {
   "cell_type": "markdown",
   "id": "b2d9b703-d4db-4ee6-a27b-6c01444124f0",
   "metadata": {},
   "source": [
    "We observe that \"Price USD\" has a :\n",
    "- Strong positive correlation with \"Year Produced\".\n",
    "- Weak positive correlation with \"Engine Capacity\", and \"Number of Photos\".\n",
    "- Moderate negative correlation with \"Odometer Value\""
   ]
  },
  {
   "cell_type": "markdown",
   "id": "c7e22daf-75e3-4d73-ba20-f5856e1af5d1",
   "metadata": {},
   "source": [
    "## Visualising Categorical Data"
   ]
  },
  {
   "cell_type": "code",
   "execution_count": 26,
   "id": "957b9cda-04b5-46ab-970b-78279ea0d47c",
   "metadata": {},
   "outputs": [
    {
     "data": {
      "image/png": "[encoded data removed]",
      "text/plain": [
       "<Figure size 1584x1296 with 2 Axes>"
      ]
     },
     "metadata": {
      "needs_background": "light"
     },
     "output_type": "display_data"
    },
    {
     "data": {
      "image/png": "[encoded data removed]",
      "text/plain": [
       "<Figure size 1440x576 with 2 Axes>"
      ]
     },
     "metadata": {
      "needs_background": "light"
     },
     "output_type": "display_data"
    },
    {
     "data": {
      "image/png": "[encoded data removed]",
      "text/plain": [
       "<Figure size 1440x576 with 2 Axes>"
      ]
     },
     "metadata": {
      "needs_background": "light"
     },
     "output_type": "display_data"
    }
   ],
   "source": [
    "plt.figure(figsize=(22, 18))\n",
    "\n",
    "plt.subplot(2,2,1)\n",
    "plt1 = df_train.manufacturer_name.value_counts().plot(kind='bar')\n",
    "plt.title('Companies Histogram')\n",
    "plt1.set(xlabel = 'Car company', ylabel='Frequency of company')\n",
    "\n",
    "\n",
    "plt.subplot(2,2,2)\n",
    "df = pd.DataFrame(df_train.groupby(['manufacturer_name'])['price_usd'].mean().sort_values(ascending = False))\n",
    "df.plot.bar(ax=plt.gca())\n",
    "plt.title('Company Name vs Average Price')\n",
    "plt.show()\n",
    "\n",
    "plt.figure(figsize=(20, 8))\n",
    "\n",
    "plt.subplot(1,2,1)\n",
    "plt1 = df_train.body_type.value_counts().plot(kind='bar')\n",
    "plt.title('Body Type')\n",
    "plt1.set(xlabel = 'Body Type', ylabel='Frequency of Body Type')\n",
    "\n",
    "plt.subplot(1,2,2)\n",
    "df = pd.DataFrame(df_train.groupby(['body_type'])['price_usd'].mean().sort_values(ascending = False))\n",
    "df.plot.bar(ax=plt.gca())\n",
    "plt.title('Body Type vs Average Price')\n",
    "plt.show()\n",
    "\n",
    "\n",
    "plt.figure(figsize=(20, 8))\n",
    "\n",
    "plt.subplot(1,2,1)\n",
    "plt1 = df_train.engine_fuel.value_counts().plot(kind='bar')\n",
    "plt.title('Engine Fuel Histogram')\n",
    "plt1.set(xlabel = 'Engine Fuel', ylabel='Frequency of Engine type')\n",
    "\n",
    "plt.subplot(1,2,2)\n",
    "df = pd.DataFrame(df_train.groupby(['engine_fuel'])['price_usd'].mean().sort_values(ascending = False))\n",
    "df.plot.bar(ax=plt.gca())\n",
    "plt.title('Engine Fuel vs Average Price')\n",
    "plt.show()\n"
   ]
  },
  {
   "cell_type": "markdown",
   "id": "a116e40b-a3b9-4edb-9934-7109198600b8",
   "metadata": {},
   "source": [
    "Inference:\n",
    "\n",
    "- Porsche, Lexus and Jaguar have the highest average prices.\n",
    "- SUV, Pickup and Cabriolet have the highest average prices.\n",
    "- Hybrid-petrol vehicles have the highest average prices.\n"
   ]
  },
  {
   "cell_type": "markdown",
   "id": "21759980-213a-4b08-87a3-966dd7214d6e",
   "metadata": {},
   "source": [
    "Inference:\n",
    "\n",
    "- Porsche, Lexus and Jaguar seems to have highest average price.\n",
    "- Hybrid-petrol vehicles have high average price than both Diesel and Gasoline vehicles.\n",
    "- SUV and pickups have the highest average price"
   ]
  },
  {
   "cell_type": "markdown",
   "id": "6eeb2b6a-fd62-479a-9552-24327fdb00d1",
   "metadata": {
    "tags": []
   },
   "source": [
    "# Preparing Data for modeling"
   ]
  },
  {
   "cell_type": "markdown",
   "id": "90eccade-57ea-4545-a347-ca69677af612",
   "metadata": {},
   "source": [
    "### Dropping highly correlated variables"
   ]
  },
  {
   "cell_type": "markdown",
   "id": "45a0e494-ccaf-454e-8446-7fe6626a194d",
   "metadata": {},
   "source": [
    "According to the correlation heatmap above there is a high correlation between 'Duration listed' & 'Number of maintenance'(0.71). Therefore I will drop the one which is least correlation with 'Price USD'. Which is 'Duration Listed'"
   ]
  },
  {
   "cell_type": "code",
   "execution_count": 27,
   "id": "320f1075-4df8-43de-8a53-242863b8489f",
   "metadata": {},
   "outputs": [
    {
     "data": {
      "text/html": [
       "<div>\n",
       "<style scoped>\n",
       "    .dataframe tbody tr th:only-of-type {\n",
       "        vertical-align: middle;\n",
       "    }\n",
       "\n",
       "    .dataframe tbody tr th {\n",
       "        vertical-align: top;\n",
       "    }\n",
       "\n",
       "    .dataframe thead th {\n",
       "        text-align: right;\n",
       "    }\n",
       "</style>\n",
       "<table border=\"1\" class=\"dataframe\">\n",
       "  <thead>\n",
       "    <tr style=\"text-align: right;\">\n",
       "      <th></th>\n",
       "      <th>manufacturer_name</th>\n",
       "      <th>transmission</th>\n",
       "      <th>color</th>\n",
       "      <th>odometer_value</th>\n",
       "      <th>year_produced</th>\n",
       "      <th>engine_fuel</th>\n",
       "      <th>engine_capacity</th>\n",
       "      <th>body_type</th>\n",
       "      <th>has_warranty</th>\n",
       "      <th>ownership</th>\n",
       "      <th>type_of_drive</th>\n",
       "      <th>is_exchangeable</th>\n",
       "      <th>number_of_photos</th>\n",
       "      <th>number_of_maintenance</th>\n",
       "      <th>price_usd</th>\n",
       "    </tr>\n",
       "  </thead>\n",
       "  <tbody>\n",
       "    <tr>\n",
       "      <th>0</th>\n",
       "      <td>Volkswagen</td>\n",
       "      <td>automatic</td>\n",
       "      <td>black</td>\n",
       "      <td>130000</td>\n",
       "      <td>2016</td>\n",
       "      <td>diesel</td>\n",
       "      <td>1.6</td>\n",
       "      <td>universal</td>\n",
       "      <td>False</td>\n",
       "      <td>owned</td>\n",
       "      <td>front</td>\n",
       "      <td>True</td>\n",
       "      <td>17</td>\n",
       "      <td>38</td>\n",
       "      <td>13150.0</td>\n",
       "    </tr>\n",
       "    <tr>\n",
       "      <th>1</th>\n",
       "      <td>Renault</td>\n",
       "      <td>manual</td>\n",
       "      <td>brown</td>\n",
       "      <td>149000</td>\n",
       "      <td>2012</td>\n",
       "      <td>gasoline</td>\n",
       "      <td>1.6</td>\n",
       "      <td>sedan</td>\n",
       "      <td>False</td>\n",
       "      <td>owned</td>\n",
       "      <td>front</td>\n",
       "      <td>False</td>\n",
       "      <td>9</td>\n",
       "      <td>3</td>\n",
       "      <td>7500.0</td>\n",
       "    </tr>\n",
       "    <tr>\n",
       "      <th>2</th>\n",
       "      <td>Kia</td>\n",
       "      <td>automatic</td>\n",
       "      <td>brown</td>\n",
       "      <td>110000</td>\n",
       "      <td>2014</td>\n",
       "      <td>gasoline</td>\n",
       "      <td>1.6</td>\n",
       "      <td>hatchback</td>\n",
       "      <td>False</td>\n",
       "      <td>owned</td>\n",
       "      <td>front</td>\n",
       "      <td>False</td>\n",
       "      <td>5</td>\n",
       "      <td>10</td>\n",
       "      <td>12200.0</td>\n",
       "    </tr>\n",
       "    <tr>\n",
       "      <th>3</th>\n",
       "      <td>Opel</td>\n",
       "      <td>automatic</td>\n",
       "      <td>other</td>\n",
       "      <td>255100</td>\n",
       "      <td>2007</td>\n",
       "      <td>gasoline</td>\n",
       "      <td>1.8</td>\n",
       "      <td>hatchback</td>\n",
       "      <td>False</td>\n",
       "      <td>owned</td>\n",
       "      <td>front</td>\n",
       "      <td>False</td>\n",
       "      <td>10</td>\n",
       "      <td>4</td>\n",
       "      <td>4950.0</td>\n",
       "    </tr>\n",
       "    <tr>\n",
       "      <th>4</th>\n",
       "      <td>Mazda</td>\n",
       "      <td>manual</td>\n",
       "      <td>blue</td>\n",
       "      <td>650000</td>\n",
       "      <td>1999</td>\n",
       "      <td>gasoline</td>\n",
       "      <td>2.0</td>\n",
       "      <td>sedan</td>\n",
       "      <td>False</td>\n",
       "      <td>owned</td>\n",
       "      <td>front</td>\n",
       "      <td>True</td>\n",
       "      <td>5</td>\n",
       "      <td>7</td>\n",
       "      <td>3000.0</td>\n",
       "    </tr>\n",
       "  </tbody>\n",
       "</table>\n",
       "</div>"
      ],
      "text/plain": [
       "  manufacturer_name transmission  color  odometer_value  year_produced  \\\n",
       "0        Volkswagen    automatic  black          130000           2016   \n",
       "1           Renault       manual  brown          149000           2012   \n",
       "2               Kia    automatic  brown          110000           2014   \n",
       "3              Opel    automatic  other          255100           2007   \n",
       "4             Mazda       manual   blue          650000           1999   \n",
       "\n",
       "  engine_fuel  engine_capacity  body_type  has_warranty ownership  \\\n",
       "0      diesel              1.6  universal         False     owned   \n",
       "1    gasoline              1.6      sedan         False     owned   \n",
       "2    gasoline              1.6  hatchback         False     owned   \n",
       "3    gasoline              1.8  hatchback         False     owned   \n",
       "4    gasoline              2.0      sedan         False     owned   \n",
       "\n",
       "  type_of_drive  is_exchangeable  number_of_photos  number_of_maintenance  \\\n",
       "0         front             True                17                     38   \n",
       "1         front            False                 9                      3   \n",
       "2         front            False                 5                     10   \n",
       "3         front            False                10                      4   \n",
       "4         front             True                 5                      7   \n",
       "\n",
       "   price_usd  \n",
       "0    13150.0  \n",
       "1     7500.0  \n",
       "2    12200.0  \n",
       "3     4950.0  \n",
       "4     3000.0  "
      ]
     },
     "execution_count": 27,
     "metadata": {},
     "output_type": "execute_result"
    }
   ],
   "source": [
    "df_train = df_train.drop(\"duration_listed\", axis=1)\n",
    "df_test = df_test.drop(\"duration_listed\", axis=1)\n",
    "df_train.head()"
   ]
  },
  {
   "cell_type": "markdown",
   "id": "aed85c70-ec71-4646-9670-58c9fafc0c05",
   "metadata": {},
   "source": [
    "### Checking Outliers"
   ]
  },
  {
   "cell_type": "code",
   "execution_count": 28,
   "id": "16ad800a-0f74-4b1d-a8e7-d6e908ed736f",
   "metadata": {},
   "outputs": [
    {
     "data": {
      "text/plain": [
       "Index(['manufacturer_name', 'transmission', 'color', 'odometer_value',\n",
       "       'year_produced', 'engine_fuel', 'engine_capacity', 'body_type',\n",
       "       'has_warranty', 'ownership', 'type_of_drive', 'is_exchangeable',\n",
       "       'number_of_photos', 'number_of_maintenance', 'price_usd'],\n",
       "      dtype='object')"
      ]
     },
     "execution_count": 28,
     "metadata": {},
     "output_type": "execute_result"
    }
   ],
   "source": [
    "clm = df_train.columns\n",
    "clm"
   ]
  },
  {
   "cell_type": "code",
   "execution_count": 29,
   "id": "d5cc1561-4749-4ab1-b746-5cefd38ca7e7",
   "metadata": {},
   "outputs": [
    {
     "data": {
      "image/png": "[encoded data removed]",
      "text/plain": [
       "<Figure size 1080x360 with 7 Axes>"
      ]
     },
     "metadata": {
      "needs_background": "light"
     },
     "output_type": "display_data"
    }
   ],
   "source": [
    "df_train[clm].plot(kind='box',subplots=True,layout=(1,7),figsize=(15,5))\n",
    "plt.show()"
   ]
  },
  {
   "cell_type": "markdown",
   "id": "c017fa66-357b-430a-a4de-287a58f0df5a",
   "metadata": {},
   "source": [
    "Normally outliers should be handled as it may affect the models. However, this dataset shows collective outliers stacked up together representing a large portion of the dataset. Hence, we will not remove any outliers."
   ]
  },
  {
   "cell_type": "markdown",
   "id": "702d7e23-5234-46f1-84f7-926e4a06a178",
   "metadata": {},
   "source": [
    "df_train.head()"
   ]
  },
  {
   "cell_type": "markdown",
   "id": "fa2e6dad-e975-47dd-acb3-5549e0e46aff",
   "metadata": {},
   "source": [
    "all_data = pd.concat((df_train.loc[:,'manufacturer_name':'duration_listed'],\n",
    "                      df_test.loc[:,'manufacturer_name':'duration_listed']))"
   ]
  },
  {
   "cell_type": "markdown",
   "id": "80299809-bc9b-4dec-b7e1-68d925af25b4",
   "metadata": {},
   "source": [
    "X_train = all_data[:df_train.shape[0]]\n",
    "X_test = all_data[df_train.shape[0]:]\n",
    "y = df_train.price_usd"
   ]
  },
  {
   "cell_type": "markdown",
   "id": "4e700ef7-516d-4d39-9cf2-fd6006c8c541",
   "metadata": {},
   "source": [
    "## Dummy Variables\n",
    "\n",
    "\n",
    "\n"
   ]
  },
  {
   "cell_type": "code",
   "execution_count": 30,
   "id": "6d0583f9-41d7-42a5-aaf5-88094a413f4c",
   "metadata": {},
   "outputs": [
    {
     "data": {
      "text/plain": [
       "(49985, 15)"
      ]
     },
     "execution_count": 30,
     "metadata": {},
     "output_type": "execute_result"
    }
   ],
   "source": [
    "df_train.shape"
   ]
  },
  {
   "cell_type": "markdown",
   "id": "48c708f5-7aae-421a-b721-99ac0710691d",
   "metadata": {},
   "source": [
    "Shape to check if changes are made after dummy creation"
   ]
  },
  {
   "cell_type": "code",
   "execution_count": 31,
   "id": "e91fccba-93d1-43ce-b85a-1fabd3550c37",
   "metadata": {},
   "outputs": [],
   "source": [
    "df_train = pd.get_dummies(df_train)"
   ]
  },
  {
   "cell_type": "markdown",
   "id": "60b6de38-bab9-41fe-94ab-3598410a6437",
   "metadata": {},
   "source": [
    "Performing one-hot encoding"
   ]
  },
  {
   "cell_type": "code",
   "execution_count": 32,
   "id": "104f60cf-92d2-4961-bd45-60866ba21ed1",
   "metadata": {},
   "outputs": [
    {
     "data": {
      "text/html": [
       "<div>\n",
       "<style scoped>\n",
       "    .dataframe tbody tr th:only-of-type {\n",
       "        vertical-align: middle;\n",
       "    }\n",
       "\n",
       "    .dataframe tbody tr th {\n",
       "        vertical-align: top;\n",
       "    }\n",
       "\n",
       "    .dataframe thead th {\n",
       "        text-align: right;\n",
       "    }\n",
       "</style>\n",
       "<table border=\"1\" class=\"dataframe\">\n",
       "  <thead>\n",
       "    <tr style=\"text-align: right;\">\n",
       "      <th></th>\n",
       "      <th>engine_capacity</th>\n",
       "      <th>engine_fuel_diesel</th>\n",
       "      <th>engine_fuel_gasoline</th>\n",
       "      <th>engine_fuel_hybrid-diesel</th>\n",
       "      <th>engine_fuel_hybrid-petrol</th>\n",
       "    </tr>\n",
       "  </thead>\n",
       "  <tbody>\n",
       "    <tr>\n",
       "      <th>0</th>\n",
       "      <td>1.6</td>\n",
       "      <td>1</td>\n",
       "      <td>0</td>\n",
       "      <td>0</td>\n",
       "      <td>0</td>\n",
       "    </tr>\n",
       "    <tr>\n",
       "      <th>1</th>\n",
       "      <td>1.6</td>\n",
       "      <td>0</td>\n",
       "      <td>1</td>\n",
       "      <td>0</td>\n",
       "      <td>0</td>\n",
       "    </tr>\n",
       "    <tr>\n",
       "      <th>2</th>\n",
       "      <td>1.6</td>\n",
       "      <td>0</td>\n",
       "      <td>1</td>\n",
       "      <td>0</td>\n",
       "      <td>0</td>\n",
       "    </tr>\n",
       "    <tr>\n",
       "      <th>3</th>\n",
       "      <td>1.8</td>\n",
       "      <td>0</td>\n",
       "      <td>1</td>\n",
       "      <td>0</td>\n",
       "      <td>0</td>\n",
       "    </tr>\n",
       "    <tr>\n",
       "      <th>4</th>\n",
       "      <td>2.0</td>\n",
       "      <td>0</td>\n",
       "      <td>1</td>\n",
       "      <td>0</td>\n",
       "      <td>0</td>\n",
       "    </tr>\n",
       "  </tbody>\n",
       "</table>\n",
       "</div>"
      ],
      "text/plain": [
       "   engine_capacity  engine_fuel_diesel  engine_fuel_gasoline  \\\n",
       "0              1.6                   1                     0   \n",
       "1              1.6                   0                     1   \n",
       "2              1.6                   0                     1   \n",
       "3              1.8                   0                     1   \n",
       "4              2.0                   0                     1   \n",
       "\n",
       "   engine_fuel_hybrid-diesel  engine_fuel_hybrid-petrol  \n",
       "0                          0                          0  \n",
       "1                          0                          0  \n",
       "2                          0                          0  \n",
       "3                          0                          0  \n",
       "4                          0                          0  "
      ]
     },
     "execution_count": 32,
     "metadata": {},
     "output_type": "execute_result"
    }
   ],
   "source": [
    "enginefuel_oneHot = [c for c in df_train.columns if c.startswith(\"engine\")]\n",
    "df_train[enginefuel_oneHot].head()"
   ]
  },
  {
   "cell_type": "markdown",
   "id": "c72e67cc-b45c-4067-85e7-54e5edd837a6",
   "metadata": {},
   "source": [
    "Observing Engine Fuel variable. One-hot encoding on categorical features seem successful."
   ]
  },
  {
   "cell_type": "markdown",
   "id": "1fb0cc67-f046-4300-bfb7-18ddbf6540b4",
   "metadata": {},
   "source": [
    "Defining a function to generate dummy variables and merging it with data frame. Although we are using the same dataframe, keeping this function incase I would like to create a new dataframe and merge it with df_train."
   ]
  },
  {
   "cell_type": "code",
   "execution_count": 33,
   "id": "e8af609f-18c9-47e8-93e0-8f0e6ea4888c",
   "metadata": {},
   "outputs": [
    {
     "data": {
      "text/plain": [
       "(49985, 99)"
      ]
     },
     "execution_count": 33,
     "metadata": {},
     "output_type": "execute_result"
    }
   ],
   "source": [
    "df_train.shape"
   ]
  },
  {
   "cell_type": "markdown",
   "id": "ed6ddee4-d680-4db4-8457-13f1ef03e1d5",
   "metadata": {},
   "source": [
    "Results are in. Shape has changed meaning dummies have been successfully created."
   ]
  },
  {
   "cell_type": "code",
   "execution_count": 34,
   "id": "311d0f45-2501-4c41-b853-da4c6820782f",
   "metadata": {},
   "outputs": [
    {
     "data": {
      "text/html": [
       "<div>\n",
       "<style scoped>\n",
       "    .dataframe tbody tr th:only-of-type {\n",
       "        vertical-align: middle;\n",
       "    }\n",
       "\n",
       "    .dataframe tbody tr th {\n",
       "        vertical-align: top;\n",
       "    }\n",
       "\n",
       "    .dataframe thead th {\n",
       "        text-align: right;\n",
       "    }\n",
       "</style>\n",
       "<table border=\"1\" class=\"dataframe\">\n",
       "  <thead>\n",
       "    <tr style=\"text-align: right;\">\n",
       "      <th></th>\n",
       "      <th>odometer_value</th>\n",
       "      <th>year_produced</th>\n",
       "      <th>engine_capacity</th>\n",
       "      <th>has_warranty</th>\n",
       "      <th>is_exchangeable</th>\n",
       "      <th>number_of_photos</th>\n",
       "      <th>number_of_maintenance</th>\n",
       "      <th>price_usd</th>\n",
       "      <th>manufacturer_name_Acura</th>\n",
       "      <th>manufacturer_name_Alfa Romeo</th>\n",
       "      <th>...</th>\n",
       "      <th>body_type_sedan</th>\n",
       "      <th>body_type_suv</th>\n",
       "      <th>body_type_universal</th>\n",
       "      <th>body_type_van</th>\n",
       "      <th>ownership_emergency</th>\n",
       "      <th>ownership_new</th>\n",
       "      <th>ownership_owned</th>\n",
       "      <th>type_of_drive_all</th>\n",
       "      <th>type_of_drive_front</th>\n",
       "      <th>type_of_drive_rear</th>\n",
       "    </tr>\n",
       "  </thead>\n",
       "  <tbody>\n",
       "    <tr>\n",
       "      <th>0</th>\n",
       "      <td>130000</td>\n",
       "      <td>2016</td>\n",
       "      <td>1.6</td>\n",
       "      <td>False</td>\n",
       "      <td>True</td>\n",
       "      <td>17</td>\n",
       "      <td>38</td>\n",
       "      <td>13150.0</td>\n",
       "      <td>0</td>\n",
       "      <td>0</td>\n",
       "      <td>...</td>\n",
       "      <td>0</td>\n",
       "      <td>0</td>\n",
       "      <td>1</td>\n",
       "      <td>0</td>\n",
       "      <td>0</td>\n",
       "      <td>0</td>\n",
       "      <td>1</td>\n",
       "      <td>0</td>\n",
       "      <td>1</td>\n",
       "      <td>0</td>\n",
       "    </tr>\n",
       "    <tr>\n",
       "      <th>1</th>\n",
       "      <td>149000</td>\n",
       "      <td>2012</td>\n",
       "      <td>1.6</td>\n",
       "      <td>False</td>\n",
       "      <td>False</td>\n",
       "      <td>9</td>\n",
       "      <td>3</td>\n",
       "      <td>7500.0</td>\n",
       "      <td>0</td>\n",
       "      <td>0</td>\n",
       "      <td>...</td>\n",
       "      <td>1</td>\n",
       "      <td>0</td>\n",
       "      <td>0</td>\n",
       "      <td>0</td>\n",
       "      <td>0</td>\n",
       "      <td>0</td>\n",
       "      <td>1</td>\n",
       "      <td>0</td>\n",
       "      <td>1</td>\n",
       "      <td>0</td>\n",
       "    </tr>\n",
       "    <tr>\n",
       "      <th>2</th>\n",
       "      <td>110000</td>\n",
       "      <td>2014</td>\n",
       "      <td>1.6</td>\n",
       "      <td>False</td>\n",
       "      <td>False</td>\n",
       "      <td>5</td>\n",
       "      <td>10</td>\n",
       "      <td>12200.0</td>\n",
       "      <td>0</td>\n",
       "      <td>0</td>\n",
       "      <td>...</td>\n",
       "      <td>0</td>\n",
       "      <td>0</td>\n",
       "      <td>0</td>\n",
       "      <td>0</td>\n",
       "      <td>0</td>\n",
       "      <td>0</td>\n",
       "      <td>1</td>\n",
       "      <td>0</td>\n",
       "      <td>1</td>\n",
       "      <td>0</td>\n",
       "    </tr>\n",
       "    <tr>\n",
       "      <th>3</th>\n",
       "      <td>255100</td>\n",
       "      <td>2007</td>\n",
       "      <td>1.8</td>\n",
       "      <td>False</td>\n",
       "      <td>False</td>\n",
       "      <td>10</td>\n",
       "      <td>4</td>\n",
       "      <td>4950.0</td>\n",
       "      <td>0</td>\n",
       "      <td>0</td>\n",
       "      <td>...</td>\n",
       "      <td>0</td>\n",
       "      <td>0</td>\n",
       "      <td>0</td>\n",
       "      <td>0</td>\n",
       "      <td>0</td>\n",
       "      <td>0</td>\n",
       "      <td>1</td>\n",
       "      <td>0</td>\n",
       "      <td>1</td>\n",
       "      <td>0</td>\n",
       "    </tr>\n",
       "    <tr>\n",
       "      <th>4</th>\n",
       "      <td>650000</td>\n",
       "      <td>1999</td>\n",
       "      <td>2.0</td>\n",
       "      <td>False</td>\n",
       "      <td>True</td>\n",
       "      <td>5</td>\n",
       "      <td>7</td>\n",
       "      <td>3000.0</td>\n",
       "      <td>0</td>\n",
       "      <td>0</td>\n",
       "      <td>...</td>\n",
       "      <td>1</td>\n",
       "      <td>0</td>\n",
       "      <td>0</td>\n",
       "      <td>0</td>\n",
       "      <td>0</td>\n",
       "      <td>0</td>\n",
       "      <td>1</td>\n",
       "      <td>0</td>\n",
       "      <td>1</td>\n",
       "      <td>0</td>\n",
       "    </tr>\n",
       "  </tbody>\n",
       "</table>\n",
       "<p>5 rows × 99 columns</p>\n",
       "</div>"
      ],
      "text/plain": [
       "   odometer_value  year_produced  engine_capacity  has_warranty  \\\n",
       "0          130000           2016              1.6         False   \n",
       "1          149000           2012              1.6         False   \n",
       "2          110000           2014              1.6         False   \n",
       "3          255100           2007              1.8         False   \n",
       "4          650000           1999              2.0         False   \n",
       "\n",
       "   is_exchangeable  number_of_photos  number_of_maintenance  price_usd  \\\n",
       "0             True                17                     38    13150.0   \n",
       "1            False                 9                      3     7500.0   \n",
       "2            False                 5                     10    12200.0   \n",
       "3            False                10                      4     4950.0   \n",
       "4             True                 5                      7     3000.0   \n",
       "\n",
       "   manufacturer_name_Acura  manufacturer_name_Alfa Romeo  ...  \\\n",
       "0                        0                             0  ...   \n",
       "1                        0                             0  ...   \n",
       "2                        0                             0  ...   \n",
       "3                        0                             0  ...   \n",
       "4                        0                             0  ...   \n",
       "\n",
       "   body_type_sedan  body_type_suv  body_type_universal  body_type_van  \\\n",
       "0                0              0                    1              0   \n",
       "1                1              0                    0              0   \n",
       "2                0              0                    0              0   \n",
       "3                0              0                    0              0   \n",
       "4                1              0                    0              0   \n",
       "\n",
       "   ownership_emergency  ownership_new  ownership_owned  type_of_drive_all  \\\n",
       "0                    0              0                1                  0   \n",
       "1                    0              0                1                  0   \n",
       "2                    0              0                1                  0   \n",
       "3                    0              0                1                  0   \n",
       "4                    0              0                1                  0   \n",
       "\n",
       "   type_of_drive_front  type_of_drive_rear  \n",
       "0                    1                   0  \n",
       "1                    1                   0  \n",
       "2                    1                   0  \n",
       "3                    1                   0  \n",
       "4                    1                   0  \n",
       "\n",
       "[5 rows x 99 columns]"
      ]
     },
     "execution_count": 34,
     "metadata": {},
     "output_type": "execute_result"
    }
   ],
   "source": [
    "df_train.head()"
   ]
  },
  {
   "cell_type": "markdown",
   "id": "02c8dc26-1e3a-41ba-8334-8e5258330e75",
   "metadata": {},
   "source": [
    "Observing columns to verify if dummies were generated."
   ]
  },
  {
   "cell_type": "markdown",
   "id": "d98d8729-1c91-4dc1-bd6d-f51335ebe234",
   "metadata": {
    "tags": []
   },
   "source": [
    "# Prediction Type and Modeling Techniques\n"
   ]
  },
  {
   "cell_type": "markdown",
   "id": "50914c26-7924-4078-94aa-a2c07bce92ad",
   "metadata": {},
   "source": [
    "- 1) Linear Regression\n",
    "- 2) Nearest Neighbors\n",
    "- 3) Decision Trees\n",
    "- 4) Neural Networks\n",
    "- 5) Random Forest\n",
    "- 6) Gradient Boosting"
   ]
  },
  {
   "cell_type": "markdown",
   "id": "f7cae0b7-77f2-451d-ae73-1c7743225d8d",
   "metadata": {},
   "source": [
    "# Model Building and Evaluation"
   ]
  },
  {
   "cell_type": "markdown",
   "id": "bd5635d0-a180-4e0f-b2aa-c46925ccfe3a",
   "metadata": {},
   "source": [
    "## Feature Scaling"
   ]
  },
  {
   "cell_type": "code",
   "execution_count": 35,
   "id": "637386cc-4668-4493-a9fb-3f89cb6d8042",
   "metadata": {},
   "outputs": [],
   "source": [
    "from sklearn.preprocessing import StandardScaler\n",
    "\n",
    "scaler = StandardScaler()\n",
    "\n",
    "df_train.loc[:, df_train.columns != 'price_usd'] = scaler.fit_transform(\n",
    "    df_train.loc[:, df_train.columns != 'price_usd'])"
   ]
  },
  {
   "cell_type": "markdown",
   "id": "b4136187-6033-40dc-8fd7-b9f613c4e269",
   "metadata": {},
   "source": [
    "Fitting the scaler to our data before transformation."
   ]
  },
  {
   "cell_type": "code",
   "execution_count": 36,
   "id": "20b3b841-5b74-4c29-b336-5b4d8a4505dd",
   "metadata": {},
   "outputs": [
    {
     "data": {
      "text/html": [
       "<div>\n",
       "<style scoped>\n",
       "    .dataframe tbody tr th:only-of-type {\n",
       "        vertical-align: middle;\n",
       "    }\n",
       "\n",
       "    .dataframe tbody tr th {\n",
       "        vertical-align: top;\n",
       "    }\n",
       "\n",
       "    .dataframe thead th {\n",
       "        text-align: right;\n",
       "    }\n",
       "</style>\n",
       "<table border=\"1\" class=\"dataframe\">\n",
       "  <thead>\n",
       "    <tr style=\"text-align: right;\">\n",
       "      <th></th>\n",
       "      <th>odometer_value</th>\n",
       "      <th>year_produced</th>\n",
       "      <th>engine_capacity</th>\n",
       "      <th>has_warranty</th>\n",
       "      <th>is_exchangeable</th>\n",
       "      <th>number_of_photos</th>\n",
       "      <th>number_of_maintenance</th>\n",
       "      <th>price_usd</th>\n",
       "      <th>manufacturer_name_Acura</th>\n",
       "      <th>manufacturer_name_Alfa Romeo</th>\n",
       "      <th>...</th>\n",
       "      <th>body_type_sedan</th>\n",
       "      <th>body_type_suv</th>\n",
       "      <th>body_type_universal</th>\n",
       "      <th>body_type_van</th>\n",
       "      <th>ownership_emergency</th>\n",
       "      <th>ownership_new</th>\n",
       "      <th>ownership_owned</th>\n",
       "      <th>type_of_drive_all</th>\n",
       "      <th>type_of_drive_front</th>\n",
       "      <th>type_of_drive_rear</th>\n",
       "    </tr>\n",
       "  </thead>\n",
       "  <tbody>\n",
       "    <tr>\n",
       "      <th>0</th>\n",
       "      <td>-0.874833</td>\n",
       "      <td>1.618931</td>\n",
       "      <td>-0.676781</td>\n",
       "      <td>-0.107496</td>\n",
       "      <td>1.353815</td>\n",
       "      <td>1.194379</td>\n",
       "      <td>0.523388</td>\n",
       "      <td>13150.0</td>\n",
       "      <td>-0.039534</td>\n",
       "      <td>-0.07342</td>\n",
       "      <td>...</td>\n",
       "      <td>-0.715026</td>\n",
       "      <td>-0.392651</td>\n",
       "      <td>2.447434</td>\n",
       "      <td>-0.146625</td>\n",
       "      <td>-0.098572</td>\n",
       "      <td>-0.106732</td>\n",
       "      <td>0.146054</td>\n",
       "      <td>-0.403242</td>\n",
       "      <td>0.623244</td>\n",
       "      <td>-0.403309</td>\n",
       "    </tr>\n",
       "    <tr>\n",
       "      <th>1</th>\n",
       "      <td>-0.735477</td>\n",
       "      <td>1.123006</td>\n",
       "      <td>-0.676781</td>\n",
       "      <td>-0.107496</td>\n",
       "      <td>-0.738654</td>\n",
       "      <td>-0.107566</td>\n",
       "      <td>-0.319133</td>\n",
       "      <td>7500.0</td>\n",
       "      <td>-0.039534</td>\n",
       "      <td>-0.07342</td>\n",
       "      <td>...</td>\n",
       "      <td>1.398550</td>\n",
       "      <td>-0.392651</td>\n",
       "      <td>-0.408591</td>\n",
       "      <td>-0.146625</td>\n",
       "      <td>-0.098572</td>\n",
       "      <td>-0.106732</td>\n",
       "      <td>0.146054</td>\n",
       "      <td>-0.403242</td>\n",
       "      <td>0.623244</td>\n",
       "      <td>-0.403309</td>\n",
       "    </tr>\n",
       "    <tr>\n",
       "      <th>2</th>\n",
       "      <td>-1.021524</td>\n",
       "      <td>1.370968</td>\n",
       "      <td>-0.676781</td>\n",
       "      <td>-0.107496</td>\n",
       "      <td>-0.738654</td>\n",
       "      <td>-0.758539</td>\n",
       "      <td>-0.150629</td>\n",
       "      <td>12200.0</td>\n",
       "      <td>-0.039534</td>\n",
       "      <td>-0.07342</td>\n",
       "      <td>...</td>\n",
       "      <td>-0.715026</td>\n",
       "      <td>-0.392651</td>\n",
       "      <td>-0.408591</td>\n",
       "      <td>-0.146625</td>\n",
       "      <td>-0.098572</td>\n",
       "      <td>-0.106732</td>\n",
       "      <td>0.146054</td>\n",
       "      <td>-0.403242</td>\n",
       "      <td>0.623244</td>\n",
       "      <td>-0.403309</td>\n",
       "    </tr>\n",
       "    <tr>\n",
       "      <th>3</th>\n",
       "      <td>0.042718</td>\n",
       "      <td>0.503099</td>\n",
       "      <td>-0.380528</td>\n",
       "      <td>-0.107496</td>\n",
       "      <td>-0.738654</td>\n",
       "      <td>0.055177</td>\n",
       "      <td>-0.295061</td>\n",
       "      <td>4950.0</td>\n",
       "      <td>-0.039534</td>\n",
       "      <td>-0.07342</td>\n",
       "      <td>...</td>\n",
       "      <td>-0.715026</td>\n",
       "      <td>-0.392651</td>\n",
       "      <td>-0.408591</td>\n",
       "      <td>-0.146625</td>\n",
       "      <td>-0.098572</td>\n",
       "      <td>-0.106732</td>\n",
       "      <td>0.146054</td>\n",
       "      <td>-0.403242</td>\n",
       "      <td>0.623244</td>\n",
       "      <td>-0.403309</td>\n",
       "    </tr>\n",
       "    <tr>\n",
       "      <th>4</th>\n",
       "      <td>2.939129</td>\n",
       "      <td>-0.488752</td>\n",
       "      <td>-0.084275</td>\n",
       "      <td>-0.107496</td>\n",
       "      <td>1.353815</td>\n",
       "      <td>-0.758539</td>\n",
       "      <td>-0.222845</td>\n",
       "      <td>3000.0</td>\n",
       "      <td>-0.039534</td>\n",
       "      <td>-0.07342</td>\n",
       "      <td>...</td>\n",
       "      <td>1.398550</td>\n",
       "      <td>-0.392651</td>\n",
       "      <td>-0.408591</td>\n",
       "      <td>-0.146625</td>\n",
       "      <td>-0.098572</td>\n",
       "      <td>-0.106732</td>\n",
       "      <td>0.146054</td>\n",
       "      <td>-0.403242</td>\n",
       "      <td>0.623244</td>\n",
       "      <td>-0.403309</td>\n",
       "    </tr>\n",
       "  </tbody>\n",
       "</table>\n",
       "<p>5 rows × 99 columns</p>\n",
       "</div>"
      ],
      "text/plain": [
       "   odometer_value  year_produced  engine_capacity  has_warranty  \\\n",
       "0       -0.874833       1.618931        -0.676781     -0.107496   \n",
       "1       -0.735477       1.123006        -0.676781     -0.107496   \n",
       "2       -1.021524       1.370968        -0.676781     -0.107496   \n",
       "3        0.042718       0.503099        -0.380528     -0.107496   \n",
       "4        2.939129      -0.488752        -0.084275     -0.107496   \n",
       "\n",
       "   is_exchangeable  number_of_photos  number_of_maintenance  price_usd  \\\n",
       "0         1.353815          1.194379               0.523388    13150.0   \n",
       "1        -0.738654         -0.107566              -0.319133     7500.0   \n",
       "2        -0.738654         -0.758539              -0.150629    12200.0   \n",
       "3        -0.738654          0.055177              -0.295061     4950.0   \n",
       "4         1.353815         -0.758539              -0.222845     3000.0   \n",
       "\n",
       "   manufacturer_name_Acura  manufacturer_name_Alfa Romeo  ...  \\\n",
       "0                -0.039534                      -0.07342  ...   \n",
       "1                -0.039534                      -0.07342  ...   \n",
       "2                -0.039534                      -0.07342  ...   \n",
       "3                -0.039534                      -0.07342  ...   \n",
       "4                -0.039534                      -0.07342  ...   \n",
       "\n",
       "   body_type_sedan  body_type_suv  body_type_universal  body_type_van  \\\n",
       "0        -0.715026      -0.392651             2.447434      -0.146625   \n",
       "1         1.398550      -0.392651            -0.408591      -0.146625   \n",
       "2        -0.715026      -0.392651            -0.408591      -0.146625   \n",
       "3        -0.715026      -0.392651            -0.408591      -0.146625   \n",
       "4         1.398550      -0.392651            -0.408591      -0.146625   \n",
       "\n",
       "   ownership_emergency  ownership_new  ownership_owned  type_of_drive_all  \\\n",
       "0            -0.098572      -0.106732         0.146054          -0.403242   \n",
       "1            -0.098572      -0.106732         0.146054          -0.403242   \n",
       "2            -0.098572      -0.106732         0.146054          -0.403242   \n",
       "3            -0.098572      -0.106732         0.146054          -0.403242   \n",
       "4            -0.098572      -0.106732         0.146054          -0.403242   \n",
       "\n",
       "   type_of_drive_front  type_of_drive_rear  \n",
       "0             0.623244           -0.403309  \n",
       "1             0.623244           -0.403309  \n",
       "2             0.623244           -0.403309  \n",
       "3             0.623244           -0.403309  \n",
       "4             0.623244           -0.403309  \n",
       "\n",
       "[5 rows x 99 columns]"
      ]
     },
     "execution_count": 36,
     "metadata": {},
     "output_type": "execute_result"
    }
   ],
   "source": [
    "df_train.head()"
   ]
  },
  {
   "cell_type": "markdown",
   "id": "eee6b635-a4c2-4367-b440-28f6631ed465",
   "metadata": {},
   "source": [
    "Verifying scaler fit."
   ]
  },
  {
   "cell_type": "markdown",
   "id": "be63e9bc-fb0e-4ae8-b3c5-8d9471157a94",
   "metadata": {
    "tags": []
   },
   "source": [
    "##  Splitting the Dataset\n"
   ]
  },
  {
   "cell_type": "markdown",
   "id": "f5500ed1-28ff-41f5-8d56-d8130abb5de9",
   "metadata": {},
   "source": [
    "We have separated train and test data.\n",
    "\n",
    "We train the machine learning algorithms, we use part of the training set, usually two-thirds of the train data. Once we train our algorithm using 2/3 of the train data, we start to test our algorithms using the remaining data\n",
    "\n",
    "The code below, basically splits the train data into 4 parts, X_train, X_test, y_train, y_test.\n",
    "- X_train, y_train first used to train the algorithm.\n",
    "- then, X_test is used in that trained algorithms to predict outcomes.\n",
    "- Once we get the outcomes, we compare it with y_test"
   ]
  },
  {
   "cell_type": "code",
   "execution_count": 37,
   "id": "5000fea2-3232-4810-b505-ef269b2543f0",
   "metadata": {},
   "outputs": [],
   "source": [
    "from sklearn.model_selection import train_test_split\n",
    "\n",
    "X_train, X_test, y_train, y_test = train_test_split(\n",
    "    df_train.drop('price_usd', axis=1), df_train[['price_usd']], \n",
    "    test_size=0.33, random_state=42)"
   ]
  },
  {
   "cell_type": "markdown",
   "id": "e9f457cd-1c3b-4e26-bd16-60d709e8524d",
   "metadata": {},
   "source": [
    "Train test split follows this distinguished code pattern and helps creating train and test set to build machine learning. \n"
   ]
  },
  {
   "cell_type": "code",
   "execution_count": 38,
   "id": "4328dcd2-daec-4a72-b07a-b30ffbb6c8ef",
   "metadata": {},
   "outputs": [
    {
     "data": {
      "text/plain": [
       "((33489, 98), (33489, 1), (16496, 98), (16496, 1))"
      ]
     },
     "execution_count": 38,
     "metadata": {},
     "output_type": "execute_result"
    }
   ],
   "source": [
    "X_train.shape, y_train.shape, X_test.shape, y_test.shape\n"
   ]
  },
  {
   "cell_type": "markdown",
   "id": "ca900648-c877-463c-8418-6d73f76b2feb",
   "metadata": {},
   "source": [
    "# _______________________________________________________"
   ]
  },
  {
   "cell_type": "markdown",
   "id": "c9279e13-16d8-48c4-8eb5-282c25d295da",
   "metadata": {},
   "source": [
    "# Model Building"
   ]
  },
  {
   "cell_type": "markdown",
   "id": "27636421-7dca-487b-af62-d91f9a228233",
   "metadata": {},
   "source": [
    "We will follow these steps to build a model:\n",
    "\n",
    "- Choose an algorithm that implements the corresponding technique\n",
    "- Search for an effective parameter combination for the chosen algorithm\n",
    "- Create a model using the found parameters\n",
    "- Train (fit) the model on the training dataset\n",
    "- Test the model on the test dataset and get the results"
   ]
  },
  {
   "cell_type": "markdown",
   "id": "ed8ef4a5-a1b5-4b03-80f3-fdba29e8502a",
   "metadata": {},
   "source": [
    "### Searching for Effective Parameters\n"
   ]
  },
  {
   "cell_type": "markdown",
   "id": "a4aa257b-3e5f-443e-af46-0d17634449eb",
   "metadata": {},
   "source": [
    "I will examine many parameter combinations and choose the combination that gives the best score. Scikit-Learn provides a useful function for that purpose: GridSearchCV().\n"
   ]
  },
  {
   "cell_type": "markdown",
   "id": "108c0a15-9cb6-4cb7-a734-0fa5ae04abd0",
   "metadata": {},
   "source": [
    "Sometimes, when the number of parameter combinations is large, GridSearchCV() can take very long time to run. So in addition to GridSearchCV(), I will sometimes use RandomizedSearchCV() which is similar to GridSearchCV() but instead of using all parameter combinations, it picks a number of random combinations specified by n_iter."
   ]
  },
  {
   "cell_type": "markdown",
   "id": "aa36890e-1883-4c89-a49d-a8b9408e2e73",
   "metadata": {},
   "source": [
    "### Performance Metric"
   ]
  },
  {
   "cell_type": "markdown",
   "id": "1e9eb6b1-fe27-422c-a34c-8b649bb9ccf8",
   "metadata": {},
   "source": [
    "For evaluating the performance of our models, I will use mean absolute error (MAE) as requested."
   ]
  },
  {
   "cell_type": "markdown",
   "id": "a444ceab-c5c4-4fb2-8606-6ba89cf0ff32",
   "metadata": {},
   "source": [
    " ## Linear Regression"
   ]
  },
  {
   "cell_type": "markdown",
   "id": "e3d2cfbe-32fe-4fe7-aedf-ce45cb7c80f7",
   "metadata": {},
   "source": [
    "For Linear Regression, I will choose two algorithmic implementations: Ridge Regression and Elastic Net. I will use the implementations provided in the Scikit-Learn package of these algorithms."
   ]
  },
  {
   "cell_type": "markdown",
   "id": "d985e4b5-9ce4-4f29-9156-56e10656b12c",
   "metadata": {},
   "source": [
    "# Modeling"
   ]
  },
  {
   "cell_type": "markdown",
   "id": "1a16bad6-67f1-479f-b9ed-a4fc8ae13935",
   "metadata": {},
   "source": [
    "For most of our models I will be using:\n",
    "- **random_state** = 42 to helps reproduce the same result after reuse the train_test_split.\n",
    "- **CV** = 5 to reduce bias and ensure that every observation from the original dataset has the chance of appearing in training and test set.\n",
    "- **n_jobs** = -1 to use maximum computing power that I have. I am running a CPU with 6 cores/12 threads. I have set it to 4 on some models for stability."
   ]
  },
  {
   "cell_type": "markdown",
   "id": "95c47f52-1c4a-43a1-811c-5496a808350a",
   "metadata": {},
   "source": [
    "## Ridge Regression"
   ]
  },
  {
   "cell_type": "markdown",
   "id": "fda58bcd-da18-401d-a462-772e16a773d2",
   "metadata": {},
   "source": [
    "Linear least squares with l2 regularization.\n",
    "\n",
    "- **GridSearchCV()** to search for the best model parameter.\n",
    "- **alpha** represents the regularization strength.\n",
    "- **fit_intercept** determines whether to calculate the intercept for this model.\n",
    "- **Solver** controls which solver to use in the computational routines. I set this to automatically choose the best solver between 'svd', 'cholesky', 'lsqr', 'sparse_cg', 'sag', 'saga'."
   ]
  },
  {
   "cell_type": "code",
   "execution_count": 39,
   "id": "ff3755fb-82cf-49ff-87ac-672d0e7a07ba",
   "metadata": {},
   "outputs": [],
   "source": [
    "from sklearn.model_selection import GridSearchCV\n",
    "from sklearn.metrics import mean_absolute_error"
   ]
  },
  {
   "cell_type": "code",
   "execution_count": 42,
   "id": "3dc5d8fd-26a2-47e5-b575-f4956e29e8e9",
   "metadata": {},
   "outputs": [
    {
     "name": "stdout",
     "output_type": "stream",
     "text": [
      "Best parameters:\n",
      "{'alpha': 2000, 'fit_intercept': True, 'solver': 'auto'}\n"
     ]
    }
   ],
   "source": [
    "\n",
    "from sklearn.linear_model import Ridge\n",
    "\n",
    "parameter_space = {\n",
    "    \"alpha\": [1, 10, 100, 290, 500, 600, 1000, 2000, 3000],\n",
    "    \"fit_intercept\": [True, False],\n",
    "    \"solver\": ['auto'],\n",
    "}\n",
    "\n",
    "clf = GridSearchCV(Ridge(random_state=42), parameter_space, n_jobs=-1,\n",
    "                   cv=5, scoring=\"neg_mean_absolute_error\")\n",
    "\n",
    "clf.fit(X_train, y_train)\n",
    "print(\"Best parameters:\")\n",
    "print(clf.best_params_)"
   ]
  },
  {
   "cell_type": "code",
   "execution_count": 43,
   "id": "ccf78851-eb9e-4156-a978-fbb9e61892f1",
   "metadata": {},
   "outputs": [],
   "source": [
    "ridge_model = Ridge(random_state=42, **clf.best_params_)"
   ]
  },
  {
   "cell_type": "code",
   "execution_count": 44,
   "id": "84ee0899-514a-4358-8d6d-2a39dcb207e6",
   "metadata": {},
   "outputs": [],
   "source": [
    "ridge_model.fit(X_train, y_train);"
   ]
  },
  {
   "cell_type": "code",
   "execution_count": 42,
   "id": "792ef154-b114-473b-9209-5dab72338366",
   "metadata": {},
   "outputs": [
    {
     "name": "stdout",
     "output_type": "stream",
     "text": [
      "Ridge MAE = 2089.1086555695683\n"
     ]
    }
   ],
   "source": [
    "\n",
    "y_pred = ridge_model.predict(X_test)\n",
    "ridge_mae = mean_absolute_error(y_test, y_pred)\n",
    "print(\"Ridge MAE =\", ridge_mae)"
   ]
  },
  {
   "cell_type": "markdown",
   "id": "c1b90027-9c64-4439-9036-634ed44c2acd",
   "metadata": {},
   "source": [
    "## Elastic Net"
   ]
  },
  {
   "cell_type": "markdown",
   "id": "741b69e6-c0bc-4581-ab52-ba2f2a448e2b",
   "metadata": {},
   "source": [
    "Linear regression with combined L1 and L2 priors as regularizer.\n",
    "\n",
    "- **alpha:** Constant that multiplies the penalty terms.\n",
    "- **l1_ratio:** The ElasticNet mixing parameter. / 0.5 the penalty is a combination of L1 and L2.\n",
    "- **fit_intercept:** Whether the intercept should be estimated or not."
   ]
  },
  {
   "cell_type": "code",
   "execution_count": 43,
   "id": "8e39aacf-731b-4883-b322-b2583b7ea293",
   "metadata": {},
   "outputs": [
    {
     "name": "stdout",
     "output_type": "stream",
     "text": [
      "Best parameters:\n",
      "{'alpha': 0.15, 'fit_intercept': True, 'l1_ratio': 0.5}\n"
     ]
    }
   ],
   "source": [
    "from sklearn.linear_model import ElasticNet\n",
    "\n",
    "parameter_space = {\n",
    "    \"alpha\": [0.1, 0.15, 0.2, 0.25, 0.3, 0.4, 0.6, 0.8, 1, 10, 100, 500],\n",
    "    \"l1_ratio\": [0.5, 1],\n",
    "    \"fit_intercept\": [True, False],\n",
    "}\n",
    "\n",
    "clf = GridSearchCV(ElasticNet(random_state=42), parameter_space, \n",
    "                   n_jobs=-1, cv=5, scoring=\"neg_mean_absolute_error\")\n",
    "\n",
    "clf.fit(X_train, y_train)\n",
    "print(\"Best parameters:\")\n",
    "print(clf.best_params_)"
   ]
  },
  {
   "cell_type": "code",
   "execution_count": 44,
   "id": "aa151362-a142-46a0-814f-e5e13b85b2a0",
   "metadata": {},
   "outputs": [],
   "source": [
    "elasticNet_model = ElasticNet(random_state=42, **clf.best_params_)"
   ]
  },
  {
   "cell_type": "code",
   "execution_count": 45,
   "id": "841c8f1b-a3a2-428e-a8eb-78281f821cbf",
   "metadata": {},
   "outputs": [],
   "source": [
    "elasticNet_model.fit(X_train, y_train);"
   ]
  },
  {
   "cell_type": "code",
   "execution_count": 46,
   "id": "7aacdf12-dccc-4ebf-ae42-636f3a19a6aa",
   "metadata": {},
   "outputs": [
    {
     "name": "stdout",
     "output_type": "stream",
     "text": [
      "Elastic Net MAE = 2087.569018947217\n"
     ]
    }
   ],
   "source": [
    "y_pred = elasticNet_model.predict(X_test)\n",
    "elasticNet_mae = mean_absolute_error(y_test, y_pred)\n",
    "print(\"Elastic Net MAE =\", elasticNet_mae)"
   ]
  },
  {
   "cell_type": "markdown",
   "id": "cc08fc54-2079-4b38-9943-6362f3c941ab",
   "metadata": {},
   "source": [
    "## Nearest Neighbors"
   ]
  },
  {
   "cell_type": "markdown",
   "id": "30d9bbab-ccd6-44ff-9581-8734dc211d25",
   "metadata": {},
   "source": [
    "Regression based on k-nearest neighbors.\n",
    "\n",
    "The target is predicted by local interpolation of the targets associated of the nearest neighbors in the training set.\n",
    "\n",
    "- **n_neighbors:** Number of neighbors required for each sample. The default is the value passed to the constructor.\n",
    "- **weights:** Weight function used in prediction.\n",
    "- **algorithm:** Algorithm used to compute the nearest neighbors\n",
    "- **leaf_size:** Leaf size passed to BallTree or KDTree. This can affect the speed of the construction and query, as well as the memory required to store the tree."
   ]
  },
  {
   "cell_type": "code",
   "execution_count": 47,
   "id": "c8c21b0a-9f34-4900-b788-8ee38f0ff1c3",
   "metadata": {},
   "outputs": [
    {
     "name": "stdout",
     "output_type": "stream",
     "text": [
      "Best parameters:\n",
      "{'algorithm': 'brute', 'leaf_size': 1, 'n_neighbors': 10, 'weights': 'distance'}\n"
     ]
    }
   ],
   "source": [
    "from sklearn.neighbors import KNeighborsRegressor\n",
    "\n",
    "parameter_space = {\n",
    "    \"n_neighbors\": [10, 11, 12, 13, 14, 15, 20, 30],\n",
    "    \"weights\": [\"uniform\", \"distance\"],\n",
    "    \"algorithm\": [\"ball_tree\", \"kd_tree\", \"brute\"],\n",
    "    \"leaf_size\": [1, 2, 20, 50, 200]\n",
    "}\n",
    "\n",
    "clf = GridSearchCV(KNeighborsRegressor(), parameter_space, cv=5, \n",
    "                   scoring=\"neg_mean_absolute_error\", n_jobs=-1)\n",
    "\n",
    "clf.fit(X_train, y_train)\n",
    "print(\"Best parameters:\")\n",
    "print(clf.best_params_)"
   ]
  },
  {
   "cell_type": "code",
   "execution_count": 48,
   "id": "e8a86311-25cf-49f7-914b-df5ece32cc8d",
   "metadata": {},
   "outputs": [],
   "source": [
    "knn_model = KNeighborsRegressor(**clf.best_params_)"
   ]
  },
  {
   "cell_type": "code",
   "execution_count": 49,
   "id": "934ddcc9-d2c3-403d-8b2a-8249b6befd39",
   "metadata": {},
   "outputs": [],
   "source": [
    "knn_model.fit(X_train, y_train);"
   ]
  },
  {
   "cell_type": "code",
   "execution_count": 50,
   "id": "4129a231-3ede-461e-83d1-ce57d5e7bd49",
   "metadata": {},
   "outputs": [
    {
     "name": "stdout",
     "output_type": "stream",
     "text": [
      "K-Nearest Neighbors MAE = 1224.8014039322697\n"
     ]
    }
   ],
   "source": [
    "y_pred = knn_model.predict(X_test)\n",
    "knn_mae = mean_absolute_error(y_test, y_pred)\n",
    "print(\"K-Nearest Neighbors MAE =\", knn_mae)"
   ]
  },
  {
   "cell_type": "markdown",
   "id": "f99aa5e9-dc99-4fcf-99a5-25b82fc8f619",
   "metadata": {
    "tags": []
   },
   "source": [
    "## Decision Tree"
   ]
  },
  {
   "cell_type": "markdown",
   "id": "cc9bd0ef-234f-4d2f-9fcf-253e98653fc6",
   "metadata": {},
   "source": [
    "A decision tree regressor.\n",
    "\n",
    "- **criterion:** The function to measure the quality of a split.\n",
    "- **min_samples_split:** The minimum number of samples required to split an internal node\n",
    "- **min_samples_leaf:** The minimum number of samples required to be at a leaf node. This may have the effect of smoothing the model, especially in regression.\n",
    "- **max_features:** The number of features to consider when looking for the best split"
   ]
  },
  {
   "cell_type": "code",
   "execution_count": 40,
   "id": "2d9ff76b-8c38-4544-b6d7-240164856afc",
   "metadata": {},
   "outputs": [
    {
     "name": "stdout",
     "output_type": "stream",
     "text": [
      "Best parameters:\n",
      "{'criterion': 'squared_error', 'max_features': 98, 'min_samples_leaf': 1, 'min_samples_split': 2}\n"
     ]
    }
   ],
   "source": [
    "from sklearn.tree import DecisionTreeRegressor\n",
    "\n",
    "parameter_space = \\\n",
    "    {\n",
    "        \"criterion\": [\"squared_error\", \"friedman_mse\", \"absolute_error\",\"poisson\"],\n",
    "        \"min_samples_split\": [2, 5, 18, 29, 50],\n",
    "        \"min_samples_leaf\": [1, 3, 7, 15, 25],\n",
    "        \"max_features\": [20, 50, 150, 200, X_train.shape[1]],\n",
    "    }\n",
    "\n",
    "clf = GridSearchCV(DecisionTreeRegressor(random_state=42), parameter_space, \n",
    "                   cv=5, scoring=\"neg_mean_absolute_error\", n_jobs=4)\n",
    "\n",
    "clf.fit(X_train, y_train)\n",
    "print(\"Best parameters:\")\n",
    "print(clf.best_params_)"
   ]
  },
  {
   "cell_type": "code",
   "execution_count": 41,
   "id": "2b2460de-5a03-42f2-b279-90671cb25923",
   "metadata": {},
   "outputs": [],
   "source": [
    "dt_model = DecisionTreeRegressor(**clf.best_params_)"
   ]
  },
  {
   "cell_type": "code",
   "execution_count": 42,
   "id": "ad8625d9-3447-49c9-8942-01fff0a09b4d",
   "metadata": {},
   "outputs": [],
   "source": [
    "dt_model.fit(X_train, y_train);"
   ]
  },
  {
   "cell_type": "code",
   "execution_count": 45,
   "id": "30bf3fa2-6222-4a61-8d89-3aeaa3edd88d",
   "metadata": {},
   "outputs": [
    {
     "name": "stdout",
     "output_type": "stream",
     "text": [
      "Decision Tree MAE = 865.9582429515906\n"
     ]
    }
   ],
   "source": [
    "y_pred = dt_model.predict(X_test)\n",
    "dt_mae = mean_absolute_error(y_test, y_pred)\n",
    "print(\"Decision Tree MAE =\", dt_mae)"
   ]
  },
  {
   "cell_type": "markdown",
   "id": "ff996a91-8ee1-4be5-a798-c1d5d371dbfb",
   "metadata": {},
   "source": [
    "## Neural Network"
   ]
  },
  {
   "cell_type": "markdown",
   "id": "261bb800-62cb-4db2-8499-5db685cc3827",
   "metadata": {},
   "source": [
    "This model optimizes the squared error using LBFGS or stochastic gradient descent.\n",
    "\n",
    "- **hidden_layer_sizes:** The ith element represents the number of neurons in the ith hidden layer.\n",
    "- **activation:** Activation function for the hidden layer.\n",
    "- **solver:** The solver for weight optimization\n",
    "    - ‘lbfgs’ is an optimizer in the family of quasi-Newton methods.\n",
    "    - ‘sgd’ refers to stochastic gradient descent.\n",
    "    - ‘adam’ refers to a stochastic gradient-based optimizer proposed by Kingma, Diederik, and Jimmy Ba.\n",
    "- **alpha:** L2 penalty (regularization term) parameter."
   ]
  },
  {
   "cell_type": "code",
   "execution_count": 55,
   "id": "b3eb0bc5-b590-4b1c-8066-2df9b621c367",
   "metadata": {},
   "outputs": [
    {
     "name": "stdout",
     "output_type": "stream",
     "text": [
      "Best parameters:\n",
      "{'activation': 'relu', 'alpha': 250, 'hidden_layer_sizes': (154,), 'solver': 'lbfgs'}\n"
     ]
    }
   ],
   "source": [
    "from sklearn.neural_network import MLPRegressor\n",
    "\n",
    "parameter_space = \\\n",
    "    {\n",
    "        \"hidden_layer_sizes\": [(7,)*3, (19,), (100,), (154,)],\n",
    "        \"activation\": [\"identity\", \"logistic\", \"tanh\", \"relu\"],\n",
    "        \"solver\": [\"lbfgs\"],\n",
    "        \"alpha\": [0.0001, 1, 10, 100, 150, 200, 250, 300, 400, 600, 800],\n",
    "    }\n",
    "\n",
    "clf = GridSearchCV(MLPRegressor(random_state=42), parameter_space, \n",
    "                   cv=5, scoring=\"neg_mean_absolute_error\", n_jobs=-1)\n",
    "\n",
    "clf.fit(X_train, y_train)\n",
    "print(\"Best parameters:\")\n",
    "print(clf.best_params_)"
   ]
  },
  {
   "cell_type": "code",
   "execution_count": 56,
   "id": "f47f43b2-e46e-4195-a98f-7c5e926c5ffc",
   "metadata": {},
   "outputs": [],
   "source": [
    "nn_model = MLPRegressor(**clf.best_params_)"
   ]
  },
  {
   "cell_type": "code",
   "execution_count": 57,
   "id": "06a8f339-5f9a-43d1-949a-d050045f323c",
   "metadata": {},
   "outputs": [],
   "source": [
    "nn_model.fit(X_train, y_train);"
   ]
  },
  {
   "cell_type": "code",
   "execution_count": 58,
   "id": "22cb3388-5964-480c-89a0-d4cc4a4ff239",
   "metadata": {},
   "outputs": [
    {
     "name": "stdout",
     "output_type": "stream",
     "text": [
      "Neural Network MAE = 1089.5484014133422\n"
     ]
    }
   ],
   "source": [
    "y_pred = nn_model.predict(X_test)\n",
    "nn_mae = mean_absolute_error(y_test, y_pred)\n",
    "print(\"Neural Network MAE =\", nn_mae)"
   ]
  },
  {
   "cell_type": "markdown",
   "id": "38daee9b-f153-4b13-b2f9-9c7195a3e021",
   "metadata": {},
   "source": [
    "## Random Forest\n"
   ]
  },
  {
   "cell_type": "markdown",
   "id": "ac15749d-78c1-4c1d-80f9-fc2671114bf7",
   "metadata": {},
   "source": [
    "A random forest is a meta estimator that fits a number of classifying decision trees on various sub-samples of the dataset and uses averaging to improve the predictive accuracy and control over-fitting\n",
    "\n",
    "- **n_estimator:** The number of trees in the forest.\n",
    "- **criterion:** The function to measure the quality of a split.\n",
    "- **max_depth:** The maximum depth of the tree.\n",
    "- **min_samples_split:** The minimum number of samples required to split an internal node.\n",
    "- **min_samples_leaf:** The minimum number of samples required to be at a leaf node.\n",
    "- **max_features:** The number of features to consider when looking for the best split.\n",
    "- **bootstrap:** Whether bootstrap samples are used when building trees. If False, the whole dataset is used to build each tree."
   ]
  },
  {
   "cell_type": "code",
   "execution_count": 40,
   "id": "d42a4f48-7bec-4312-9168-93fd017c47cb",
   "metadata": {},
   "outputs": [
    {
     "name": "stdout",
     "output_type": "stream",
     "text": [
      "Best parameters:\n",
      "{'n_estimators': 300, 'min_samples_split': 2, 'min_samples_leaf': 1, 'max_features': 98, 'max_depth': 255, 'criterion': 'squared_error', 'bootstrap': False}\n"
     ]
    }
   ],
   "source": [
    "from sklearn.ensemble import RandomForestRegressor\n",
    "from sklearn.model_selection import RandomizedSearchCV\n",
    "\n",
    "\n",
    "parameter_space = \\\n",
    "    {\n",
    "        \"n_estimators\": [10, 100, 300, 600, 1000],\n",
    "        \"criterion\": [\"squared_error\", \"absolute_error\", \"poisson\"],\n",
    "        \"max_depth\": [7, 51, 100, 255, 300, 354, 450],\n",
    "        \"min_samples_split\": [2, 5],\n",
    "        \"min_samples_leaf\": [1, 5],\n",
    "        \"max_features\": [19, 100, X_train.shape[1]],\n",
    "        \"bootstrap\": [True, False],\n",
    "    }\n",
    "\n",
    "clf = RandomizedSearchCV(RandomForestRegressor(random_state=42), \n",
    "                         parameter_space, cv=5, n_jobs=-1,\n",
    "                         scoring=\"neg_mean_absolute_error\", \n",
    "                         n_iter=10, random_state=42)\n",
    "\n",
    "clf.fit(X_train, y_train)\n",
    "print(\"Best parameters:\")\n",
    "print(clf.best_params_)"
   ]
  },
  {
   "cell_type": "code",
   "execution_count": 41,
   "id": "a7c02eb0-a5f4-4891-9bf8-9994bb4dd287",
   "metadata": {},
   "outputs": [],
   "source": [
    "rf_model = RandomForestRegressor(**clf.best_params_)"
   ]
  },
  {
   "cell_type": "code",
   "execution_count": 42,
   "id": "6bf1b7ce-f827-4aa2-a56b-8edf963c03f0",
   "metadata": {},
   "outputs": [],
   "source": [
    "rf_model.fit(X_train, y_train);"
   ]
  },
  {
   "cell_type": "code",
   "execution_count": 43,
   "id": "f58edca2-c026-420a-bca3-18143e12a211",
   "metadata": {},
   "outputs": [
    {
     "name": "stdout",
     "output_type": "stream",
     "text": [
      "Random Forest MAE = 831.8606409444475\n"
     ]
    }
   ],
   "source": [
    "y_pred = rf_model.predict(X_test)\n",
    "rf_mae = mean_absolute_error(y_test, y_pred)\n",
    "print(\"Random Forest MAE =\", rf_mae)"
   ]
  },
  {
   "cell_type": "markdown",
   "id": "de1d6591-ef51-47cb-8e72-c8bd175dadac",
   "metadata": {},
   "source": [
    "## Gradient Boosting"
   ]
  },
  {
   "cell_type": "markdown",
   "id": "0aa7b46f-cf49-4fa5-a5de-8a4d24e5f6a1",
   "metadata": {},
   "source": [
    "Scikit-Learn Wrapper interface for XGBoost.\n",
    "\n",
    "Extreme Gradient Boosting (XGBoost) is an open-source library that provides an efficient and effective implementation of the gradient boosting algorithm.\n",
    "\n",
    "- **max_depth:** Maximum tree depth for base learners.\n",
    "- **learning_rate:** Boosting learning rate (xgb’s “eta”)\n",
    "- **n_estimators:** Number of gradient boosted trees. Equivalent to number of boosting rounds.\n",
    "- **booster:** Specify which booster to use: gbtree, gblinear or dart.\n",
    "- **gamma:** Minimum loss reduction required to make a further partition on a leaf node of the tree.\n",
    "- **subsample:** Subsample ratio of the training instance.\n",
    "- **colsample_bytree:** Subsample ratio of columns when constructing each tree.\n",
    "- **colsample_bylevel:** Subsample ratio of columns for each level.\n",
    "- **reg_alpha:** L1 regularization term on weights (xgb’s alpha).\n",
    "- **reg_lambda:** L2 regularization term on weights (xgb’s lambda).\n"
   ]
  },
  {
   "cell_type": "code",
   "execution_count": 45,
   "id": "952ac06e-c1b7-4be9-b4a0-4c29e5df76dd",
   "metadata": {},
   "outputs": [
    {
     "name": "stdout",
     "output_type": "stream",
     "text": [
      "Best parameters:\n",
      "{'subsample': 1, 'reg_lambda': 3, 'reg_alpha': 10, 'n_estimators': 3000, 'max_depth': 11, 'learning_rate': 0.009, 'gamma': 0, 'colsample_bytree': 0.7, 'colsample_bylevel': 1, 'booster': 'gbtree'}\n"
     ]
    }
   ],
   "source": [
    "from xgboost import XGBRegressor\n",
    "\n",
    "parameter_space = \\\n",
    "    {\n",
    "        \"max_depth\": [3 ,5, 7, 9, 11],\n",
    "        \"learning_rate\": [0.005, 0.009, 0.01],\n",
    "        \"n_estimators\": [700, 1000, 2500, 3000],\n",
    "        \"booster\": [\"gbtree\",],\n",
    "        \"gamma\": [0, 6, 10, 20, 25, 30, 40, 70, 100],\n",
    "        \"subsample\": [0.3, 0.6, 1],\n",
    "        \"colsample_bytree\": [0.5, 0.7, 1],\n",
    "        \"colsample_bylevel\": [0.25, 0.5, 0.75, 1],\n",
    "        \"reg_alpha\": [1, 10, 33],\n",
    "        \"reg_lambda\": [1, 3, 10],\n",
    "    }\n",
    "\n",
    "clf = RandomizedSearchCV(XGBRegressor(random_state=42), \n",
    "                         parameter_space, cv=5, n_jobs=-1,\n",
    "                         scoring=\"neg_mean_absolute_error\", \n",
    "                         random_state=42, n_iter=10)\n",
    "\n",
    "clf.fit(X_train, y_train)\n",
    "print(\"Best parameters:\")\n",
    "print(clf.best_params_)"
   ]
  },
  {
   "cell_type": "code",
   "execution_count": 46,
   "id": "f659c34f-760c-4e6d-af1b-1d7116a7fc70",
   "metadata": {},
   "outputs": [],
   "source": [
    "xgb_model = XGBRegressor(**clf.best_params_)"
   ]
  },
  {
   "cell_type": "code",
   "execution_count": 47,
   "id": "fd58e6b9-40e1-4406-b157-f7ac0de44945",
   "metadata": {},
   "outputs": [],
   "source": [
    "xgb_model.fit(X_train, y_train);"
   ]
  },
  {
   "cell_type": "code",
   "execution_count": 48,
   "id": "99e598b8-0010-4b45-bc69-3d925246523c",
   "metadata": {},
   "outputs": [
    {
     "name": "stdout",
     "output_type": "stream",
     "text": [
      "XGBoost MAE = 836.7042721608632\n"
     ]
    }
   ],
   "source": [
    "y_pred = xgb_model.predict(X_test)\n",
    "xgb_mae = mean_absolute_error(y_test, y_pred)\n",
    "print(\"XGBoost MAE =\", xgb_mae)"
   ]
  },
  {
   "cell_type": "markdown",
   "id": "83574d5e-cc2b-4005-aadb-1e08a6b8c759",
   "metadata": {
    "tags": []
   },
   "source": [
    "## Analysis and Comparison"
   ]
  },
  {
   "cell_type": "code",
   "execution_count": 50,
   "id": "e57f448f-35fb-492f-9277-91c03f9b024e",
   "metadata": {},
   "outputs": [
    {
     "data": {
      "image/png": "[encoded data removed]",
      "text/plain": [
       "<Figure size 432x288 with 1 Axes>"
      ]
     },
     "metadata": {
      "needs_background": "light"
     },
     "output_type": "display_data"
    }
   ],
   "source": [
    "x = ['Ridge', \n",
    "     'Elastic Net', \n",
    "     'KNN', \n",
    "     'Neural Network', \n",
    "     'Decision Tree', \n",
    "     'XGBoost', \n",
    "     'Random Forest']\n",
    "\n",
    "\n",
    "y = [2089.1086555695683,\n",
    "    2087.569018947217,\n",
    "    1224.8014039322697,\n",
    "    1089.5484014133422,\n",
    "    865.9582429515906,\n",
    "    836.7042721608632,\n",
    "    831.8606409444475]\n",
    "\n",
    "colors = [\"#392834\", \"#5a3244\", \"#7e3c4d\", \"#a1484f\", \n",
    "          \"#c05949\", \"#d86f3d\", \"#e88b2b\", \"#edab06\"]\n",
    "\n",
    "fig, ax = plt.subplots()\n",
    "plt.barh(y=range(len(x)), tick_label=x, width=y, height=0.4, color=colors);\n",
    "ax.set(xlabel=\"MAE (smaller is better)\", ylabel=\"Model\");"
   ]
  },
  {
   "cell_type": "markdown",
   "id": "c677a935-ea92-4f07-b5ff-a8f43bad8475",
   "metadata": {},
   "source": [
    "The best model is **Random Forest** and the worst model is **Ridge** & **Elastic Net**. We can see that the difference in MAE between the best model and the worst model is significant; the best model **151%** less of the error of the worst model."
   ]
  }
 ],
 "metadata": {
  "kernelspec": {
   "display_name": "Python 3 (ipykernel)",
   "language": "python",
   "name": "python3"
  },
  "language_info": {
   "codemirror_mode": {
    "name": "ipython",
    "version": 3
   },
   "file_extension": ".py",
   "mimetype": "text/x-python",
   "name": "python",
   "nbconvert_exporter": "python",
   "pygments_lexer": "ipython3",
   "version": "3.8.12"
  }
 },
 "nbformat": 4,
 "nbformat_minor": 5
}
